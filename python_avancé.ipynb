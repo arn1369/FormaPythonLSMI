{
  "nbformat": 4,
  "nbformat_minor": 0,
  "metadata": {
    "colab": {
      "provenance": [],
      "include_colab_link": true
    },
    "kernelspec": {
      "name": "python3",
      "display_name": "Python 3"
    },
    "language_info": {
      "name": "python"
    }
  },
  "cells": [
    {
      "cell_type": "markdown",
      "metadata": {
        "id": "view-in-github",
        "colab_type": "text"
      },
      "source": [
        "<a href=\"https://colab.research.google.com/github/arn1369/FormaPythonLSMI/blob/main/python_avanc%C3%A9.ipynb\" target=\"_parent\"><img src=\"https://colab.research.google.com/assets/colab-badge.svg\" alt=\"Open In Colab\"/></a>"
      ]
    },
    {
      "cell_type": "code",
      "source": [
        "!pip install yfinance --upgrade --no-cache-dir --quiet && echo \"Installation de yfinance terminée.\"\n",
        "import yfinance as yf"
      ],
      "metadata": {
        "id": "p5ZRzgitq8VU"
      },
      "execution_count": null,
      "outputs": []
    },
    {
      "cell_type": "markdown",
      "source": [
        "## **Le module yFinance**\n",
        "\n",
        "Le module yFinance permet l'importation de tout type de **données financières**, en temps réel ou non. Par exemple, si j'ai un ticker, j'aimerais importer ses données :\n"
      ],
      "metadata": {
        "id": "NfADNXAAtvLm"
      }
    },
    {
      "cell_type": "code",
      "source": [
        "argenx = yf.Ticker(\"ARGX\")"
      ],
      "metadata": {
        "id": "QqSjYw3i9qyZ"
      },
      "execution_count": null,
      "outputs": []
    },
    {
      "cell_type": "markdown",
      "source": [
        "On peut ensuite trouver les **informations** sur le ticker avec :"
      ],
      "metadata": {
        "id": "Y-7jv0lJ9u1h"
      }
    },
    {
      "cell_type": "code",
      "source": [
        "info = argenx.info\n",
        "print(info)"
      ],
      "metadata": {
        "id": "Q2DKP_R690qy"
      },
      "execution_count": null,
      "outputs": []
    },
    {
      "cell_type": "markdown",
      "source": [
        "On pourrait ensuite récupérer le secteur avec la clé :"
      ],
      "metadata": {
        "id": "1VKWxzNO-aIJ"
      }
    },
    {
      "cell_type": "code",
      "source": [
        "sector = info['sector']\n",
        "print(sector)"
      ],
      "metadata": {
        "id": "F9kNmusI_Yrk"
      },
      "execution_count": null,
      "outputs": []
    },
    {
      "cell_type": "markdown",
      "source": [
        "Si l'on souhaite importer les données financières d'une liste de tickers, on utilise la fonction <code>download</code> du module. Avec _start_ et _end_ qui sont les **dates** de début et de fin de la période dont on souhaite télécharger les données.\n",
        "\n",
        "Notez que celles-ci sont du format YYYY-MM-DD (year-month-day)."
      ],
      "metadata": {
        "id": "Jy8vkSEU9rZM"
      }
    },
    {
      "cell_type": "code",
      "source": [
        "tickers_list = [\"ARGX\", \"SU.PA\", \"MC.PA\"]\n",
        "data_tickers = yf.download(tickers_list, start=\"2023-01-01\", end = \"2023-12-31\")\n",
        "# Remarque : on aurait pu utiliser une période à la place\n",
        "# data_tickers = yf.download(tickers_list, start = \"2023-01-01\", period=\"1y\")\n",
        "# ou encore sans l'option start de la date pour prendre la dernière année\n",
        "print(data_tickers.head())"
      ],
      "metadata": {
        "id": "lXJb2S5obkiX"
      },
      "execution_count": null,
      "outputs": []
    },
    {
      "cell_type": "markdown",
      "source": [
        "Pour récupérer l'**historique**, on utilisera (pour une période de 3 mois) :"
      ],
      "metadata": {
        "id": "66AB0UJ-bld1"
      }
    },
    {
      "cell_type": "code",
      "source": [
        "history_argenx = argenx.history(period=\"3mo\")"
      ],
      "metadata": {
        "id": "rXPn-s5KSxEp"
      },
      "execution_count": null,
      "outputs": []
    },
    {
      "cell_type": "markdown",
      "source": [
        "Remarquez la différence entre <code>yf.download</code> et <code>yf.Ticker.history</code> : pour _download_, on récupère les informations pour **plusieurs** tickers, alors que pour _history_ on récupère les informations historiques d'un ticker **unique**. Les périodes (_start_, _end_ ou _period_) peuvent être utilisées dans les deux fonctions.\n",
        "\n",
        "Pour voir les données les plus récentes, à l'inverse de la\n",
        "\n",
        "méthode <code>head()</code>, on utilisera <code>tail()</code> :"
      ],
      "metadata": {
        "id": "KyCvcGzPTUaw"
      }
    },
    {
      "cell_type": "code",
      "source": [
        "print(history_argenx.tail())"
      ],
      "metadata": {
        "id": "Xf5216RFTV2u"
      },
      "execution_count": null,
      "outputs": []
    },
    {
      "cell_type": "code",
      "source": [
        "# Exercice 2.1 :\n",
        "# On aimerait récupérer les données de Schneider Electric (ticker : \"SU.PA\")\n",
        "# Et afficher l'entête des données (donc les plus anciennes données sur\n",
        "# une période de 6 mois).\n",
        "# Ensuite, on aimerait récupérer uniquement le prix à l'ouverture le \"2025-04-25\"\n",
        "schneider = yf.Ticker(\"SU.PA\")\n",
        "history_schneider = schneider.history(period=\"6mo\")\n",
        "print(history_schneider.head())\n",
        "\n",
        "# Access the row with the date \"2025-04-25\" and get the 'Open' value\n",
        "# Pour ça, on utilise la méthode \"loc\"\n",
        "open_price_2025_04_25 = history_schneider.loc[\"2025-04-25\", \"Open\"]\n",
        "print(f\"The opening price on 2025-04-25 was: {open_price_2025_04_25}\")"
      ],
      "metadata": {
        "id": "Iv743IpZT1cA"
      },
      "execution_count": null,
      "outputs": []
    },
    {
      "cell_type": "markdown",
      "source": [
        "yFinance permet de récupérer des informations plus spécifiques, comme le bilan ! Avec la variable <code>financials</code> et <code>balance_sheet</code> :"
      ],
      "metadata": {
        "id": "s7CLRyaPYwdf"
      }
    },
    {
      "cell_type": "code",
      "source": [
        "compte_de_resultat = schneider.financials\n",
        "print(compte_de_resultat)\n",
        "balance_sheet = schneider.balance_sheet\n",
        "print(balance_sheet)"
      ],
      "metadata": {
        "id": "J5NBX7ZnZCQJ"
      },
      "execution_count": null,
      "outputs": []
    },
    {
      "cell_type": "markdown",
      "source": [
        "On peut donc récupérer des valeurs comme l'**EBITDA** avec :"
      ],
      "metadata": {
        "id": "Wt6xdhdIZSHB"
      }
    },
    {
      "cell_type": "code",
      "source": [
        "print(compte_de_resultat.loc['EBITDA'])"
      ],
      "metadata": {
        "id": "BaDa6xtwZWrB"
      },
      "execution_count": null,
      "outputs": []
    },
    {
      "cell_type": "markdown",
      "source": [
        "On remarque ici que pour la dernière valeur, on obtient **NaN**, qui signifie _Not A Number_. Ce sont des \"valeurs pirates\", non définies. Il faut y prêter attention, car elles peuvent induire des **erreurs**, notamment si on calcule la moyenne d'une colonne par exemple. Des méthodes existes, notamment <code>dropna()</code>. Cela peut être pour diverses raisons : la valeur **n'existe pas**, elle n'est pas attribuée, ou bien même, il y a des erreurs d'importations !\n",
        "\n",
        "Dans ce cas ci, on va simplement se contenter d'**ignorer** la valeur."
      ],
      "metadata": {
        "id": "69XGQMVjZobw"
      }
    },
    {
      "cell_type": "markdown",
      "source": [
        "Et maintenant, place aux exercices !"
      ],
      "metadata": {
        "id": "uGmNlyMEcwde"
      }
    },
    {
      "cell_type": "code",
      "source": [
        "# Exercice 2.2 :\n",
        "# Calcul de la volatilité du cours de Goldman Sachs (ticker : \"GS\")\n",
        "# On utilisera :\n",
        "#   daily_returns = closing_price.pct_changes().dropna()\n",
        "# Il faudra d'abord calculer closing_price (avec vos talents en python)\n",
        "# Remarquez l'utilisation de dropna afin de supprimer les valeurs pirates\n",
        "# On pourra ensuite calculer la volatilité :\n",
        "#   volatility = daily_returns.std() * 100\n",
        "# Qui est en fait la standard deviation (ecart-type) des retours journaliers,\n",
        "# multipliée par 100 pour l'obtenir en pourcentages.\n",
        "gs_ticker = yf.Ticker(\"ARGX\")\n",
        "history_gs = gs_ticker.history(period=\"1y\")\n",
        "closing_price = history_gs.loc[:, \"Close\"]\n",
        "daily_returns = closing_price.pct_change().dropna()\n",
        "volatility = daily_returns.std() * 100\n",
        "print(volatility)"
      ],
      "metadata": {
        "id": "mLr1q6qgcy60"
      },
      "execution_count": null,
      "outputs": []
    },
    {
      "cell_type": "markdown",
      "source": [
        "## **Matplotlib : Représenter graphiquement les données d'yFinance**\n"
      ],
      "metadata": {
        "id": "X5_iG0r2S1pv"
      }
    },
    {
      "cell_type": "markdown",
      "source": [
        "Matplotlib est une bibliothèque Python qui permet de créer des graphiques et des visualisations de données.\n",
        "Elle est très utilisée en analyse financière, data science et statistiques pour représenter visuellement les données et les tendances."
      ],
      "metadata": {
        "id": "ScTDR6f6xW_J"
      }
    },
    {
      "cell_type": "markdown",
      "source": [
        "Commençons par un exemple en important les données d'abinbev"
      ],
      "metadata": {
        "id": "2zrO3ICfyWmU"
      }
    },
    {
      "cell_type": "code",
      "source": [
        "import pandas as pd"
      ],
      "metadata": {
        "id": "_5Dn0hSBy7-8"
      },
      "execution_count": null,
      "outputs": []
    },
    {
      "cell_type": "code",
      "source": [
        "# Téléchargement des données de AB InBev\n",
        "abinbev = yf.download(\"BUD\", start=\"2020-01-01\", end=\"2025-10-01\")\n",
        "\n",
        "# visualisation\n",
        "abinbev\n"
      ],
      "metadata": {
        "id": "nBl5zJ1RsL8b"
      },
      "execution_count": null,
      "outputs": []
    },
    {
      "cell_type": "markdown",
      "source": [
        " ## Visualisation du cours d'une action"
      ],
      "metadata": {
        "id": "7VgwrFYSBFRQ"
      }
    },
    {
      "cell_type": "markdown",
      "source": [
        "Il est maintenant temps de visualiser le cours de clôture d'AbInBev grâce à plt"
      ],
      "metadata": {
        "id": "bqP89AE3zKrx"
      }
    },
    {
      "cell_type": "markdown",
      "source": [
        "Pour créer un graphique sur base d'un data frame il suffit d'y ajouter la fonction .plot() de plt, cette fonction comporte des attributs personnalisables comme figsize ou encore title qui permettent de rendre plus lisible et interprétable le graphe.\n"
      ],
      "metadata": {
        "id": "BrlSDfnkBlWV"
      }
    },
    {
      "cell_type": "markdown",
      "source": [
        "plt.xlabel() permet de définir le titre pour l'axe des abscisses (la variable horizontale)\n",
        "\n",
        "plt.ylabel() fait de même pour l'axe des ordonnées (la variable verticale)\n",
        "\n",
        "plt.show() permet d'avoir comme output le graphique"
      ],
      "metadata": {
        "id": "cm8GTdGkCHNo"
      }
    },
    {
      "cell_type": "code",
      "source": [
        "import matplotlib.pyplot as plt\n",
        "\n",
        "abinbev['Close'].plot(figsize=(10, 5), title=\"Cours de clôture de AB InBev\")\n",
        "plt.xlabel(\"Date\")\n",
        "plt.ylabel(\"Prix ($)\")\n",
        "plt.show()\n"
      ],
      "metadata": {
        "id": "LpOVnQCPrKjR"
      },
      "execution_count": null,
      "outputs": []
    },
    {
      "cell_type": "code",
      "source": [
        "# TO DO\n",
        "# importer les données d'une action de votre choix via yfinance puis visualiser\n",
        "# son cours de clôture grâce à plt\n",
        "# tips : basez vous sur l'exemple ci-dessus\n",
        "argenx = yf.download(\"ARGX\", period=\"1y\")\n",
        "argenx[\"Close\"].plot(figsize=(10, 5), title=\"Cours de Cloture d'ARGENX (ARGX)\")\n",
        "plt.xlabel(\"Date\")\n",
        "plt.ylabel(\"Price\")\n",
        "plt.show()"
      ],
      "metadata": {
        "id": "JdMqBBc06Xv4"
      },
      "execution_count": null,
      "outputs": []
    },
    {
      "cell_type": "markdown",
      "source": [
        "## Visualisation des rendements journaliers"
      ],
      "metadata": {
        "id": "RzfY0HhpBPMr"
      }
    },
    {
      "cell_type": "markdown",
      "source": [
        "L'objectif est maintenant de visualiser le rendement journalier sur un an."
      ],
      "metadata": {
        "id": "RjnRZtbb_SAr"
      }
    },
    {
      "cell_type": "markdown",
      "source": [
        "Pour ce faire, on utilise la fonction pct_change qui permet de calculer la variation entre deux valeurs succesives."
      ],
      "metadata": {
        "id": "dUQ3pbTe_gCD"
      }
    },
    {
      "cell_type": "code",
      "source": [
        "# Calcul du rendement journalier (en %)\n",
        "abinbev['Return'] = abinbev['Close'].pct_change()*100\n",
        "abinbev.head()"
      ],
      "metadata": {
        "id": "jHMxR7bk7lGB"
      },
      "execution_count": null,
      "outputs": []
    },
    {
      "cell_type": "code",
      "source": [
        "# Visualisation du rendement sur une période donnée\n",
        "abinbev['Return'].loc['2024-01-01':'2024-12-31'].plot(figsize=(10,5))\n",
        "plt.title(\"Rendement journalier de AB InBev en 2024\")\n",
        "plt.xlabel(\"Date\")\n",
        "plt.ylabel(\"Rendement quotidien (%)\")\n",
        "plt.show()\n"
      ],
      "metadata": {
        "id": "JQTV2hpF6vuY"
      },
      "execution_count": null,
      "outputs": []
    },
    {
      "cell_type": "code",
      "source": [
        "# TO DO\n",
        "# visualiser le rendement journalier (%) pour l'action que vous avez décidé d'importer\n",
        "argenx['Return'] = argenx['Close'].pct_change()*100\n",
        "argenx['Return'].plot(figsize=(10,5))\n",
        "plt.title(\"Rendement journalier d'ARGENX\")\n",
        "plt.xlabel(\"Date\")\n",
        "plt.ylabel(\"Rendement quotidien (%)\")\n",
        "plt.show()"
      ],
      "metadata": {
        "id": "rTal2msFAABT"
      },
      "execution_count": null,
      "outputs": []
    },
    {
      "cell_type": "markdown",
      "source": [
        "## Visualisation de la distribution des rendements via un histogramme"
      ],
      "metadata": {
        "id": "Iey8oEDoA8FM"
      }
    },
    {
      "cell_type": "markdown",
      "source": [
        "Nous allons maintenant visualiser la distribution des rendements via un histogramme (pour voir leur volatilité).\n",
        "\n",
        "La fonction de Matplotlib correspondante est plt.hist()"
      ],
      "metadata": {
        "id": "Ec4bZ9JxAYYe"
      }
    },
    {
      "cell_type": "code",
      "source": [
        "plt.hist(abinbev['Return'].dropna(), bins=50)\n",
        "# dropna() permet de supp les non-numériques (comme la première ligne de return)\n",
        "# bins permet de fixer le nombre de barres que contient l'histogramme\n",
        "plt.title(\"Distribution des rendements journaliers\")\n",
        "plt.xlabel(\"Rendement\")\n",
        "plt.ylabel(\"Fréquence\")\n",
        "plt.show()\n"
      ],
      "metadata": {
        "id": "bApt3_t4AsWI"
      },
      "execution_count": null,
      "outputs": []
    },
    {
      "cell_type": "markdown",
      "source": [
        "On peut voir que la distribution des rendements ressemble à une gaussienne. Cependant, les rendements suivent-ils réellement une loi normale ?"
      ],
      "metadata": {
        "id": "j329gwVdDUOM"
      }
    },
    {
      "cell_type": "markdown",
      "source": [
        "C'est ce que nous allons vérifier dans cette troisième partie"
      ],
      "metadata": {
        "id": "3v6m10xhDyQA"
      }
    },
    {
      "cell_type": "markdown",
      "source": [
        "## Superposition de plusieurs graphes et visualisation d'une loi normale"
      ],
      "metadata": {
        "id": "91CgF9PSD3rf"
      }
    },
    {
      "cell_type": "code",
      "source": [
        "import numpy as np\n",
        "\n",
        "# TO DO\n",
        "\n",
        "# Création d'une distribution normale sur base des rendements\n",
        "# tips : utilisez np.random.normal(mean, std, nbre d'observations (exemple 1000))\n",
        "# pour mean et std, il faut se baser sur la variable return d'abinbev\n",
        "\n",
        "\n",
        "###\n",
        "plt.hist(abinbev['Return'], bins=50, alpha=0.5, label='Rendements réels', density = True)\n",
        "#ici on utilise alpha=0.5 pour rendre les deux hist. semi-opaques étant donné\n",
        "#qu'on va les superposer\n",
        "\n",
        "#TO DO\n",
        "# C'est à vous de créer l'histogramme de la loi normale\n",
        "\n",
        "normale = np.random.normal(abinbev[\"Return\"].mean(),abinbev[\"Return\"].std(), 1000)\n",
        "\n",
        "plt.hist(normale, bins=50, alpha=0.5, label='Loi normale', density = True)\n",
        "##\n",
        "plt.title(\"Comparaison rendements réels vs distribution normale\")\n",
        "\n",
        "plt.legend()\n",
        "plt.show()\n"
      ],
      "metadata": {
        "id": "GiZP3KexNuOK"
      },
      "execution_count": null,
      "outputs": []
    },
    {
      "cell_type": "markdown",
      "source": [
        "On peut observer que les rendements réels possèdent plus d'observations proches de 0 mais cependant la distribution des rendements réels possèdent aussi des queues plus épaisses. Il y a donc plus de valeurs extrêmes que ce qu'une loi normale prévoit. Les modèles basés sur la normale sous-estiment le risque extrême (crashs boursiers ou gros gains)."
      ],
      "metadata": {
        "id": "ZMSHWgWYSAcf"
      }
    },
    {
      "cell_type": "markdown",
      "source": [
        "### Calcul et visualisation du béta"
      ],
      "metadata": {
        "id": "owtSrBXVvAz0"
      }
    },
    {
      "cell_type": "markdown",
      "source": [
        "Le bêta $\\beta$ est une mesure du risque systématique d'un actif par rapport au marché.\n",
        "Il indique à quel point le rendement d'un actif varie en fonction du rendement du marché."
      ],
      "metadata": {
        "id": "NNpduFkFwxwl"
      }
    },
    {
      "cell_type": "markdown",
      "source": [
        "$ \\beta =​ \\frac{Cov(R_i​,R_m)​}{Var(R_m)​}$\n",
        "\n",
        "où\n",
        "\n",
        "\n",
        "$R_i$ = Rendement de l'actif\n",
        "\n",
        "\n",
        "$R_m$ = Rendement du marché\n"
      ],
      "metadata": {
        "id": "AP6VRouGB_K4"
      }
    },
    {
      "cell_type": "markdown",
      "source": [
        "On va calculer le bêta pour Ab InBev par rapport au BEL20."
      ],
      "metadata": {
        "id": "qvUaDbrkAMlP"
      }
    },
    {
      "cell_type": "code",
      "source": [
        "# Importation des données du BEL20\n",
        "abinbev= yf.download(\"ABI.BR\", start=\"2020-01-01\", end=\"2025-10-01\")\n",
        "bel20 = yf.download(\"^BFX\", start=\"2020-01-01\", end=\"2025-10-01\")\n",
        "bel20"
      ],
      "metadata": {
        "id": "wEAhnkb4ArO3"
      },
      "execution_count": null,
      "outputs": []
    },
    {
      "cell_type": "code",
      "source": [
        "# TO DO\n",
        "\n",
        "# Calcul des rendements journaliers\n",
        "\n",
        "Ri = abinbev['Close'].pct_change().dropna()\n",
        "Rm = bel20['Close'].pct_change().dropna()\n",
        "\n",
        "# ligne de code qui permet d'avoir la bonne dispositon pour np.cov\n",
        "data = pd.concat([Ri, Rm], axis=1).dropna()\n",
        "Ri = data.iloc[:,0].values\n",
        "Rm = data.iloc[:,1].values"
      ],
      "metadata": {
        "id": "KQ_PAmJUDJ0d"
      },
      "execution_count": null,
      "outputs": []
    },
    {
      "cell_type": "code",
      "source": [
        "# TO DO\n",
        "\n",
        "# calcul de la cov et de la var avec np\n",
        "# la fonction np.cov() a comme output une matrice 2 x 2\n",
        "# en (0,0) = var(x)\n",
        "# en (0,1) = cov(x,y)\n",
        "# en (1,0) = cov(y,x)\n",
        "# en (1,1) = var(y)\n",
        "\n",
        "# np.cov() prend en compte les deux rendements qu'on compare. Il faut aussi\n",
        "# ajouter ddof = 1 car on prend des données empiriques\n",
        "covariance= np.cov(Ri, Rm, ddof=1)\n",
        "print(covariance)\n",
        "# la variance se calcule grâce à np.var()\n",
        "variance = np.var(Rm)\n",
        "\n",
        "beta= covariance[0,1]/variance\n",
        "\n",
        "ticker = yf.Ticker(\"ABI.BR\")\n",
        "info = ticker.info\n",
        "print(info['beta'])\n",
        "print(beta)\n",
        "\n"
      ],
      "metadata": {
        "id": "QPr4vZ3RGEAp"
      },
      "execution_count": null,
      "outputs": []
    },
    {
      "cell_type": "markdown",
      "source": [
        "On voit que le bêta est supérieur, ça signifie donc que l'action est plus risquée que le marché et amplifie les mouvements. En effet, AB InBev est environ 14% plus volatile. Le rendement attendu devrait donc être légèrement plus élevé que celui du BEL20."
      ],
      "metadata": {
        "id": "vRdvyffQPOgX"
      }
    },
    {
      "cell_type": "markdown",
      "source": [
        " ## **BONUS**"
      ],
      "metadata": {
        "id": "7QLws0o2RkOU"
      }
    },
    {
      "cell_type": "code",
      "source": [
        "# calcul du alpha\n",
        "alpha = Ri.mean() - beta * Rm.mean()\n",
        "print(alpha)"
      ],
      "metadata": {
        "id": "RcbESUDORokU"
      },
      "execution_count": null,
      "outputs": []
    },
    {
      "cell_type": "markdown",
      "source": [
        "Pour chaque unité de rendement du marché, AB InBev rapporte 0,02 % de moins que ce que prédirait son bêta. cette valeur est très faible, donc en réalité AB InBev suit presque parfaitement le marché belge, avec seulement une très légère sous-performance."
      ],
      "metadata": {
        "id": "Z-dqTcs7RweI"
      }
    },
    {
      "cell_type": "markdown",
      "source": [
        "## Visualisation d'AB InBev en fonction du BEL20 par régression linéaire"
      ],
      "metadata": {
        "id": "vlv7ZVJ7TlIH"
      }
    },
    {
      "cell_type": "code",
      "source": [
        "regression = alpha + beta * Rm\n",
        "\n",
        "\n",
        "plt.figure(figsize=(8,6))\n",
        "# Tracé du nuage de points\n",
        "plt.scatter(Rm, Ri, alpha=0.4, color='skyblue', label='Données réelles')\n",
        "# Tracé de la droite de régression\n",
        "plt.plot(Rm, regression, color='red', alpha=0.6, label='Droite de régression')\n",
        "plt.xlabel(\"Rendements du BEL20\")\n",
        "plt.ylabel(\"Rendements d'AB InBev\")\n",
        "plt.title(\"Régression AB InBev vs BEL20\")\n",
        "plt.legend()\n",
        "plt.show()"
      ],
      "metadata": {
        "id": "BNCl7iouTuoe"
      },
      "execution_count": null,
      "outputs": []
    }
  ]
}