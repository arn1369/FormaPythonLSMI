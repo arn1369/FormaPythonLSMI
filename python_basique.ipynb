{
  "nbformat": 4,
  "nbformat_minor": 0,
  "metadata": {
    "colab": {
      "provenance": [],
      "include_colab_link": true
    },
    "kernelspec": {
      "name": "python3",
      "display_name": "Python 3"
    },
    "language_info": {
      "name": "python"
    }
  },
  "cells": [
    {
      "cell_type": "markdown",
      "metadata": {
        "id": "view-in-github",
        "colab_type": "text"
      },
      "source": [
        "<a href=\"https://colab.research.google.com/github/arn1369/FormaPythonLSMI/blob/main/python_basique.ipynb\" target=\"_parent\"><img src=\"https://colab.research.google.com/assets/colab-badge.svg\" alt=\"Open In Colab\"/></a>"
      ]
    },
    {
      "cell_type": "markdown",
      "source": [
        "## **1. Introduction à Python**\n",
        "\n",
        "### **Variables et types**\n",
        "\n",
        "En Python, pour stocker des informations, on utilise des **variables**. C'est une sorte de \"boîte\" dans laquelle on met une information, qu'on va pouvoir regarder, changer, utiliser. Il y a différents **types** de variables, mais on en utilisera que trois :\n",
        "\n",
        "> **Integer** ou <code>int</code> : pour stocker des nombres entiers (3 par exemple) \\\n",
        "> **Float** ou <code>float</code> : pour stocker des nombres à virgules (2.45 par exemple) \\\n",
        "> **Boolean** ou <code>bool</code> : pour indiquer si c'est vrai ou faux. Elle ne peut prendre que deux valeurs : _True_ et _False_.\\\n",
        "> **String** ou <code>str</code>: pour stocker des chaînes de caractères (\"bonjour\" par exemple). Les strings sont toujours entre des guillemets \"texte\". Les guillemets doubles (\"texte\") ou simples ('texte') font la même chose en python.\n",
        "\n",
        "Pour **afficher** la valeur des ces variables à l'écran, on utilisera le mot-clé <code>print</code> :\n",
        "\n"
      ],
      "metadata": {
        "id": "CvTG_cYcxIBT"
      }
    },
    {
      "cell_type": "code",
      "source": [
        "ticker = \"AAPL\"\n",
        "price = 175.43\n",
        "print(price) # affiche '175.43'\n",
        "print(\"Le prix est :\", price) # affiche 'Le prix est : 175.43'"
      ],
      "metadata": {
        "id": "PnjC27bJlnlt"
      },
      "execution_count": null,
      "outputs": []
    },
    {
      "cell_type": "markdown",
      "source": [
        "&nbsp;&nbsp;&nbsp;&nbsp;**_NOTE:_**  Un commentaire (ligne non executée par python) est précédé par <code>#</code>. C'est une sorte de ligne d'informations, qui permet de mieux comprendre son code, c'est une bonne pratique de laisser des commentaires lorsqu'un code devient compliqué ou qu'une ligne est très spécifique et qu'un collaborateur doit reprendre le code ou le relire.\n",
        "\n",
        "Si vous n'êtes pas sûr du **type** de votre variable, vous pouvez utiliser <code>type</code> :"
      ],
      "metadata": {
        "id": "slHpP68PmF54"
      }
    },
    {
      "cell_type": "code",
      "source": [
        "ma_variable = 10\n",
        "print(type(ma_variable)) # affiche 'int'"
      ],
      "metadata": {
        "id": "WkVHSFCYlvVZ"
      },
      "execution_count": null,
      "outputs": []
    },
    {
      "cell_type": "markdown",
      "source": [
        "### **Opérations**\n",
        "\n",
        "Il y a différentes opérations en python :\n",
        "- addition (+)\n",
        "- soustraction (-)\n",
        "- multiplication (*)\n",
        "- division (/)\n",
        "- exposant (**), attention pas (^)\n",
        "- égalité (==)\n",
        "- différence (!=)\n",
        "\n",
        "&nbsp;&nbsp;&nbsp;&nbsp;**_NOTE:_** L'égalité (==) qui est une comparaison de deux valeurs, ne doit pas être confondue avec l'assignation (=), qui change la valeur !\n",
        "\n",
        "Exemple :"
      ],
      "metadata": {
        "id": "tpXsWBf6l8hc"
      }
    },
    {
      "cell_type": "code",
      "source": [
        "value1 = 10 # première variable\n",
        "value2 = 10 # deuxième variable\n",
        "print(value1 == value2) # affiche 'true' (comparaison vraie)\n",
        "print(value1 + value2) # affiche '20'\n",
        "print(value1 != 20) # affiche 'true'"
      ],
      "metadata": {
        "id": "gmVr6ycJlsq7"
      },
      "execution_count": null,
      "outputs": []
    },
    {
      "cell_type": "code",
      "source": [
        "# Exercice 1.1 : Calcul de la market value\n",
        "# On aimerait définir trois variables :\n",
        "# 'ticker' qui sera le ticker de l'action cible (ici Novo Nordisk [NOVO-B])\n",
        "# 'price' qui sera le prix de l'action actuel\n",
        "# 'count' qui sera le nombre d'actions détenues (ici 12.65)\n",
        "# 'market_value' qui sera la valeur de marché, à calculer grâce aux autres variables\n",
        "# Enfin, on aimerait afficher 'La market value de <ticker> est : <market_value>'\n",
        "# N'hésitez pas à vous amuser en changeant le ticker et les valeurs\n",
        "ticker = \"NOVO-B\"\n",
        "price = 10\n",
        "count = 12.65\n",
        "market_value = price * count\n",
        "print(\"La market value de\", ticker, \"est :\", market_value)"
      ],
      "metadata": {
        "id": "DPKpVu-oxIS9"
      },
      "execution_count": null,
      "outputs": []
    },
    {
      "cell_type": "code",
      "source": [
        "# Exercice 1.2 : Calcul d'un rendement journalier\n",
        "# On aimerait calculer le rendement journalier de nos performances.\n",
        "# Pour cela, on a deux prix :\n",
        "# 'today' et 'yesterday' (ici 46.3 et 43.4 respectivement)\n",
        "# On aimerait connaître le pourcentage gagné depuis hier (rate)\n",
        "today = 46.3\n",
        "yesterday = 43.4\n",
        "rate = ((today - yesterday)/yesterday)*100\n",
        "print(\"Le rendement journalier est :\", rate)\n",
        "# MORE : vous pouvez utiliser round(variable, number) pour arrondir le nombre\n",
        "# que vous obtenez. round(4.657, 2) donnera 4.66\n",
        "print(\"Le rendement journalier est :\", round(rate, 2))"
      ],
      "metadata": {
        "id": "0yMZIyk78oSW"
      },
      "execution_count": null,
      "outputs": []
    },
    {
      "cell_type": "markdown",
      "source": [
        "### **Boucles**\n",
        "\n",
        "En Python, il est parfois pratique de **répéter** certaines choses plusieurs fois, en changeant, ou pas, certaines valeurs. Par exemple, pour faire un chronomètre, il faut, chaque seconde, ajouter une seconde.\n",
        "Pour cela, une solution existe : les **boucles**.\n",
        "Il y a deux types de boucles :\n",
        "1. Les boucles <code>for</code> : \\\n",
        "Ce sont des boucles qui répètent des instructions, avec un \"compteur\", une variable qui augmente/diminue a chaque \"tour\" de boucle (avec un pas de 1 en général mais on peut le modifier). On pourrait les lire comme par exemple \"Pour i (le compteur) égal à 0 jusque i égal à 10, je fais :\" Elles sont de la forme :\n",
        ">```python\n",
        ">for i in range(start, end):\n",
        ">    do_something()\n",
        ">```\n",
        "&nbsp;&nbsp;&nbsp;&nbsp;**_NOTE:_** <code>range(1, 10)</code> donne donc des valeurs de 1 à 9 (le 10 n'est pas compris), pour vérifier, vous pouvez exécuter <code> list(range(1,10)) </code>\n",
        "\n",
        "2. Les boucles <code>while</code> : \\\n",
        "Ce sont des boucles qui répètent les instructions tant qu'une certaine condition est remplie. On pourrait les lire comme \"Tant que \\<condition> est vraie, je fais : \"\n",
        ">```python\n",
        ">while (condition):\n",
        ">    do_something()\n",
        ">```\n",
        "\n",
        "Remarquez qu'il y a une tabulation (4 espaces) avant _do\\_something_. Ces espaces permettent de distinguer ce qui est dans la boucle, et qui va donc se répéter. C'est essentiel de respecter ce formatage ou sinon Python ne saura pas reconnaître l'instruction que vous essayez de lui communiquer."
      ],
      "metadata": {
        "id": "g7A3IJCp8AX4"
      }
    },
    {
      "cell_type": "code",
      "source": [
        "# Exercice 1.3 : Application des boucles\n",
        "# Dans cet exercice, on aimerait implémenter un compteur de 1 jusqu'à n = 10.\n",
        "# Implémentez ce compteur de deux manières différentes (avec for et while).\n",
        "# Pour le while, il est nécessaire de déclarer le compteur avant,\n",
        "# (avec i=0 ou i=1 par exemple)\n",
        "\n",
        "print(\"Avec for :\")\n",
        "for i in range(1,11) :\n",
        "  print(i)\n",
        "\n",
        "print(\"Avec while :\")\n",
        "counter = 0\n",
        "while(counter <= 10):\n",
        "  print(counter)\n",
        "  counter += 1"
      ],
      "metadata": {
        "id": "AjgV_9jRGcYY"
      },
      "execution_count": null,
      "outputs": []
    },
    {
      "cell_type": "code",
      "source": [
        "# Exercice 1.4 : Calcul d'intérêts composés\n",
        "# On aimerait calculer ce qu'un capital initial devient après n années à un\n",
        "# taux d'intérêt (avec des boucles !). Pour cela, on aura besoin de :\n",
        "# 'initial' qui sera le montant du capital initial\n",
        "# 'rate' le taux annuel\n",
        "# 'years' le nombre d'années\n",
        "\n",
        "initial = 1000  # Capital initial\n",
        "rate = 0.05     # Taux d'intérêt annuel (5%)\n",
        "years = 10      # Nombre d'années\n",
        "\n",
        "capital = initial\n",
        "for year in range(years):\n",
        "  capital = capital * (1 + rate)\n",
        "\n",
        "print(\"Après\", years, \"années, le capital sera de : \", capital)"
      ],
      "metadata": {
        "id": "GtMwH0hd72cb"
      },
      "execution_count": null,
      "outputs": []
    },
    {
      "cell_type": "markdown",
      "source": [
        "### **Listes**\n",
        "\n",
        "Les listes ou **arrays** en Python permettent de stocker plusieurs valeurs dans une seule variable. C'est _littéralement_ une liste d'éléments.\n",
        "A l'intérieur, on met ce qu'on veut : variables, valeurs, ...\n",
        "\n",
        "On les déclare comme ceci :\n",
        ">```python\n",
        ">liste = [element1, element2, ..., elementN]\n",
        ">```\n",
        "\n",
        "Et pour accéder à un élément, on utilise <code>liste[n]</code> avec _n_ l'index de l'élément.\n",
        "\n",
        "&nbsp;&nbsp;&nbsp;&nbsp;**_ATTENTION:_** Le premier index est le 0 et non le 1 ! Cela veut donc dire qu'une liste de taille **n** a pour indices **0,1,...,n-2,n-1**.\n",
        "\n",
        "Enfin, pour obtenir le nombre d'éléments dans une liste (sa longueur) on utilise <code>len(liste)</code>"
      ],
      "metadata": {
        "id": "XSY0FiIFTXqU"
      }
    },
    {
      "cell_type": "code",
      "source": [
        "element2 = 4 / 2\n",
        "element3 = \"hello\"\n",
        "ma_liste = [1, \"bonjour\", 4.65, element2, element3]\n",
        "print(\"Contenu de la liste :\", ma_liste)\n",
        "print(\"Premier élement :\", ma_liste[0])\n",
        "ma_liste[1] = 4 # réassignation d'un élément (le deuxième)\n",
        "ma_liste.append(\"nouveau\") # ajout d'un élément\n",
        "ma_liste.remove('hello') # retrait de \"hello\"\n",
        "print(\"Contenu de la liste :\", ma_liste)\n",
        "print(\"Longueur de la liste :\", len(ma_liste))"
      ],
      "metadata": {
        "id": "2sYV1V9NeT5Q"
      },
      "execution_count": null,
      "outputs": []
    },
    {
      "cell_type": "markdown",
      "source": [
        "Il est cependant grandement conseillé d'avoir toujours le même type de variable dans une liste afin d'éviter les confusions, et des problèmes lorsqu'on fait des opérations sur des éléments de la liste.\n",
        "\n",
        "Pour parcourir une liste, on utilise les boucles :"
      ],
      "metadata": {
        "id": "ZxeEooH-e11t"
      }
    },
    {
      "cell_type": "code",
      "source": [
        "for i in range(len(ma_liste)):\n",
        "    print(\"Element n°\", i, \"de la liste :\", ma_liste[i])"
      ],
      "metadata": {
        "id": "QC__maRQe5nC"
      },
      "execution_count": null,
      "outputs": []
    },
    {
      "cell_type": "markdown",
      "source": [
        "On peut aussi utiliser les listes pour effectuer des opérations sur chacune des valeurs :\n",
        "\n",
        "On utilise ici l'opération *=, qui est en fait un raccourci.\n",
        "<code>a = a * 2</code> devient <code>a *= 2</code>.\n",
        "\n",
        "Notez aussi que range(10) ne fait que créer une liste avec les éléments de 0 à 9 (donc les indices d'une liste de taille 10) !"
      ],
      "metadata": {
        "id": "zZTcZiO3mNuH"
      }
    },
    {
      "cell_type": "code",
      "source": [
        "list_somme = [1, 2, 3, 4]\n",
        "for i in range(len(list_somme)):\n",
        "  list_somme[i] *= 2\n",
        "print(list_somme)"
      ],
      "metadata": {
        "id": "OlxlXvXtmTcv"
      },
      "execution_count": null,
      "outputs": []
    },
    {
      "cell_type": "code",
      "source": [
        "# Exercice 1.5 : Listes\n",
        "# Dans cet exercice, vous allez devoir implémenter un algorithme qui calcule\n",
        "# la moyenne des éléments d'une liste ne contenant que des nombres.\n",
        "liste = [1, 2, 3, 4]\n",
        "somme = 0\n",
        "for i in range(0, len(liste)):\n",
        "   somme += liste[i]\n",
        "moyenne = somme/len(liste)\n",
        "print(moyenne)"
      ],
      "metadata": {
        "id": "02ygaOmtp0zk"
      },
      "execution_count": null,
      "outputs": []
    },
    {
      "cell_type": "markdown",
      "source": [
        "### **Dictionnaires**\n",
        "\n",
        "&nbsp;&nbsp;&nbsp;&nbsp;**_NOTE:_** Vous pouvez faire cette partie chez vous, c'est un plus. En attendant, sautez à la partie suivante, les fonctions !\n",
        "\n",
        "Les dictionnaires, c'est une sorte de table, qui lie deux valeurs : une _clé_ et une _valeur_. Chaque clé est associée à sa valeur.\n",
        "\n",
        "On l'utilise comme ceci :\n",
        "\n",
        "\n",
        ">```python\n",
        ">my_dictionnary = {\n",
        ">  \"key1\" : value1,\n",
        ">  \"key2\" : value2,\n",
        ">  ...\n",
        ">}\n",
        ">```\n",
        "\n",
        "A nouveau, on peut mettre n'importe quel type de données dedans !\n",
        "\n",
        "Ensuite, on accède à une donnée dans le dictionnaire comme suit :\n",
        "\n",
        "\n",
        ">```python\n",
        ">value_at_key2 = my_dictionnary[\"key2\"]\n",
        ">```\n",
        "\n",
        "Par exemple :"
      ],
      "metadata": {
        "id": "fsC9DxClcKHU"
      }
    },
    {
      "cell_type": "code",
      "source": [
        "ages = {\n",
        "    \"alice\" : 18,\n",
        "    \"bob\" : 75,\n",
        "    \"charlie\" : 35,\n",
        "    \"david\" : 54,\n",
        "    \"eve\" : 15\n",
        "}\n",
        "print(\"L'âge d'Alice est :\", ages[\"alice\"])"
      ],
      "metadata": {
        "id": "XqA-gNlueSWv"
      },
      "execution_count": null,
      "outputs": []
    },
    {
      "cell_type": "markdown",
      "source": [
        "### **Fonctions**\n",
        "\n",
        "Vous avez peut-être remarqué qu'on utilise parfois un morceau de code très ressemblant, plusieurs fois. La seule chose qui change sont les valeurs à l'intérieur de ce bloc.\n",
        "Pour cela, Python incorpore des **fonctions** : c'est un bloc de code un peu plus générique, mais auquel on peut passer des _paramètres_, afin de pouvoir changer les valeurs intérieures.\n",
        "\n",
        "Elles sont de la forme :\n",
        ">```python\n",
        ">def fonction(param1, param2, ..., paramN):\n",
        ">    do_something()\n",
        ">```\n",
        "\n",
        "On peut donc utiliser les paramètres comme des variables dans cette fonction.\n",
        "\n",
        "&nbsp;&nbsp;&nbsp;&nbsp;**_ATTENTION:_** Les paramètres ne sont pas accessibles en dehors de la fonction (sans indentation/tabulation). On appelle cela la **scope** d'une variable. Pour vous renseigner plus sur ce sujet, rendez-vous en **annexe 2**.\n",
        "\n",
        "On pourrait donc imaginer une fonction qui calcule la somme de ses deux paramètres :"
      ],
      "metadata": {
        "id": "B05n3gMeceGg"
      }
    },
    {
      "cell_type": "code",
      "source": [
        "# Calcul de la somme de 2 nombres\n",
        "def add(number1, number2):\n",
        "  somme = number1 + number2\n",
        "  return somme\n",
        "\n",
        "resultat = add(1, 2)\n",
        "print(resultat)"
      ],
      "metadata": {
        "id": "hwkeF7RseUMX"
      },
      "execution_count": null,
      "outputs": []
    },
    {
      "cell_type": "markdown",
      "source": [
        "On peut constater l'utilisation du mot-clé <code>return</code> qui indique la **valeur de retour** de cette fonction (ce qu'elle renvoie quand elle a terminé ses instructions).\n",
        "\n",
        "Vous avez pu voir aussi comment on appelle la fonction : avec des **paramètres** séparés de **virgules**.\n",
        "\n",
        "Remarquez qu'on aurait pu compacter le code, avec :\n",
        "1. Le fait qu'on puisse passer une instruction à <code>return</code>\n",
        "2. Le fait qu'on puisse passer directement l'appel de la fonction à <code>print</code>"
      ],
      "metadata": {
        "id": "6idTULexeeaO"
      }
    },
    {
      "cell_type": "code",
      "source": [
        "# Calcul de la somme de 2 nombres (compactée)\n",
        "def add(number1, number2):\n",
        "  return number1 + number2\n",
        "\n",
        "print(add(1, 2))"
      ],
      "metadata": {
        "id": "tcZ8fJ-PfcTx"
      },
      "execution_count": null,
      "outputs": []
    },
    {
      "cell_type": "markdown",
      "source": [
        "En Python, on peut passer des paramètres par **défaut** aux fonctions. Cela permet de donner une valeur aux paramètres si ils ne sont pas attribués. Par exemple :"
      ],
      "metadata": {
        "id": "w0zMY5E33aoU"
      }
    },
    {
      "cell_type": "code",
      "source": [
        "def foo(param1 = 4):\n",
        "  return param1\n",
        "\n",
        "print( foo(1) ) # affiche 1\n",
        "print( foo() ) # affiche 4"
      ],
      "metadata": {
        "id": "VuHYmLiI3k6F"
      },
      "execution_count": null,
      "outputs": []
    },
    {
      "cell_type": "markdown",
      "source": [
        "On pourrait imaginer une fonction <code>map</code> qui **applique** une certaine fonction à chaque élément d'une liste. On définira la fonction <code>foo</code>, qui est un nom de fonction utilisé pour une fonction test ou vide (convention). Cette fonction sera celle qu'on appliquera à **chaque élément**. Pour l'instant, elle ne fait qu'afficher le nombre."
      ],
      "metadata": {
        "id": "FOSR0-pNf7LK"
      }
    },
    {
      "cell_type": "code",
      "source": [
        "# Implémentation de map\n",
        "def map(function, liste):\n",
        "  for i in range(len(liste)):\n",
        "    liste[i] = function(liste[i])\n",
        "  return liste\n",
        "\n",
        "def foo(a):\n",
        "  print(a)\n",
        "  return a\n",
        "\n",
        "print(map(foo, [1, 2, 3, 4]))"
      ],
      "metadata": {
        "id": "-C2vSPpfgKMQ"
      },
      "execution_count": null,
      "outputs": []
    },
    {
      "cell_type": "markdown",
      "source": [
        "On pourrait maintenant modifier ce code afin que la fonction <code>foo</code> ajoute le nombre précédent (i-1) au nombre actuel (i).\n",
        "\n",
        "Attention aux **cas critiques** ! Pour le premier nombre, son précédent est 0."
      ],
      "metadata": {
        "id": "x9VuMn-9grMX"
      }
    },
    {
      "cell_type": "code",
      "source": [
        "# Implémentation de map avec la somme du nombre actuel et précédent\n",
        "def map(function, liste):\n",
        "  for i in range(len(liste)-1):\n",
        "    liste[i+1] = foo(liste[i], liste[i+1])\n",
        "  return liste\n",
        "\n",
        "def foo(a, b):\n",
        "  return a + b\n",
        "\n",
        "print(map(foo, [1, 2, 3, 4]))"
      ],
      "metadata": {
        "id": "Vi7wNVsxhOqN"
      },
      "execution_count": null,
      "outputs": []
    },
    {
      "cell_type": "markdown",
      "source": [
        "Passons désormais à la pratique !"
      ],
      "metadata": {
        "id": "Y2FAi7VMa8F0"
      }
    },
    {
      "cell_type": "code",
      "source": [
        "# Exercice 1.6 :\n",
        "# On aimerait convertir des degrés Celsius en Fahrenheit grâce à une fonction\n",
        "# a laquelle on donne la température en °F.\n",
        "# On a une liste de températures en input\n",
        "# HINT : °F = °C*1.8 + 32\n",
        "\n",
        "def celsius_to_fahrenheit(celsius):\n",
        "  fahrenheit = celsius * 1.8 + 32\n",
        "  return fahrenheit\n",
        "\n",
        "# Ici on utilise la fonction\n",
        "celsius_temp = 25 # par exemple\n",
        "fahrenheit_temp = celsius_to_fahrenheit(celsius_temp) # on appelle la fonction\n",
        "# pour convertir celcius_temp en fahrenheit\n",
        "print(celsius_temp, \"°C equivaut à \", fahrenheit_temp, \"°F\")"
      ],
      "metadata": {
        "id": "sz2arDDnbA4_"
      },
      "execution_count": null,
      "outputs": []
    },
    {
      "cell_type": "code",
      "source": [
        "# Exercice 1.7 :\n",
        "# On aimerait pouvoir donner une liste de températures à la fonction précédente.\n",
        "# Comment la modifier pour convertir chacune des températures ?\n",
        "\n",
        "def celsius_list_to_fahrenheit(celsius_list):\n",
        "  fahrenheit_list = []\n",
        "  for celsius in celsius_list:\n",
        "    fahrenheit = celsius * 1.8 + 32\n",
        "    fahrenheit_list.append(fahrenheit)\n",
        "  return fahrenheit_list\n",
        "\n",
        "# Utilisation\n",
        "celsius_temps = [0, 25, 100]\n",
        "fahrenheit_temps = celsius_list_to_fahrenheit(celsius_temps)\n",
        "print(\"Celsius temperatures: \", celsius_temps)\n",
        "print(\"Fahrenheit temperatures: \", fahrenheit_temps)\n",
        "# On voit bien que nos deux listes sont liées par la conversion de °C à °F :\n",
        "# Le premier élément de la liste °C est 0, qui correspond au premier élément\n",
        "# de la liste °F, qui vaut 32."
      ],
      "metadata": {
        "id": "N99DTLUEzRpQ"
      },
      "execution_count": null,
      "outputs": []
    },
    {
      "cell_type": "markdown",
      "source": [
        "### **Nombres aléatoires**\n",
        "\n",
        "Dans certaines situations, générer un nombre aléatoire est pratique. Pour ça, le module (une sorte de \"pack\" avec des fonctions) <code>random</code>. Sa fonction <code>randint</code> permet de créer un nombre aléatoire, compris entre deux **bornes** (et tiré uniformément).\n",
        "\n",
        "La fonction <code>randint</code> prends deux **paramètres** : _start_ et _end_, qui sont les bornes à l'intérieur desquelles on va générer un nombre aléatoire.\n",
        "\n",
        "Le point entre random et randint se traduit par \"dans le module random, j'utilise la fonction randint\""
      ],
      "metadata": {
        "id": "ypWel9PjqtuP"
      }
    },
    {
      "cell_type": "code",
      "source": [
        "import random # On importe le module !!\n",
        "\n",
        "# Essayez de lancer le code plusieurs fois et observez le résultat\n",
        "random_number = random.randint(1, 100)\n",
        "print(random_number)"
      ],
      "metadata": {
        "id": "mw9Ky38nscWM"
      },
      "execution_count": null,
      "outputs": []
    },
    {
      "cell_type": "code",
      "source": [
        "# Exercice 1.7\n",
        "# On aimerait créer une fonction qui nous permet de lancer un dé X fois, et\n",
        "# récupérer le résultat dans une liste\n",
        "\n",
        "def roll_dice(num_rolls):\n",
        "  results = []\n",
        "  for i in range(num_rolls): # répète num_rolls fois\n",
        "    results.append(random.randint(1, 6)) # ajoute un nombre aléatoire entre 1 et 6 à la liste\n",
        "  return results\n",
        "\n",
        "# Utilisation de la fonction\n",
        "num_rolls = 10\n",
        "dice_results = roll_dice(num_rolls)\n",
        "print(\"Resulats de\", num_rolls, \"lancés de dés :\", dice_results)"
      ],
      "metadata": {
        "id": "AmpsU0bZyZZM"
      },
      "execution_count": null,
      "outputs": []
    },
    {
      "cell_type": "code",
      "source": [
        "# Exercice 1.8 (Avancé)\n",
        "# On aimerait récupérer les résultats de X lancés de dés et trouver la\n",
        "# fréquence d'un certain chiffre.\n",
        "# Par exemple, si on recoit : [1, 2, 5, 4, 5, 3, 2, 6, 1]\n",
        "# freq(1) = 2 (le chiffre 1 apparaît 2 fois)\n",
        "\n",
        "def frequency_of_number(results_list, target_number):\n",
        "  count = 0\n",
        "  for number in results_list:\n",
        "    if number == target_number:\n",
        "      count += 1\n",
        "  return count\n",
        "\n",
        "# Utilisation\n",
        "num_rolls = 20\n",
        "dice_results = roll_dice(num_rolls)\n",
        "target_number = 6\n",
        "number_frequency = frequency_of_number(dice_results, target_number)\n",
        "\n",
        "print(\"Resultats de\", num_rolls, \"lancés de dés :\", dice_results)\n",
        "print(\"Frequence de\", target_number, \":\", number_frequency)"
      ],
      "metadata": {
        "id": "ZTvIySSoyqX0"
      },
      "execution_count": null,
      "outputs": []
    },
    {
      "cell_type": "markdown",
      "source": [
        "### **Conseils et bonnes pratiques**\n",
        "\n",
        "1. Utiliser les **commentaires** afin de mieux comprendre votre code plus tard. On dit souvent qu'on doit pouvoir comprendre le code en lisant uniquement les commentaires !\n",
        "\n",
        "2. N'hésitez pas à utiliser <code>print</code> pour afficher des _valeurs intermédiaires_. Cela permet le **déboggage** (retirer les bugs) de votre code, de voir comment il fonctionne \"intérieurement\", un bon environnement de développement possède un débogueur (VSCode, Pycharm, voire même Thonny pour la programmation de base).\n",
        "\n",
        "3. Lorsque vous avez des **cas critiques**, traitez-les en premier : cela permet à Python de ne pas devoir lire tout votre code avant de se rendre compte qu'on était dans un cas spécial.\n",
        "\n",
        "4. En Python, presque **tout est permis** ! Plusieurs <code>return</code> dans une même fonction, déclarer une liste avec une boucle (\"list comprehension\"), et bien plus encore ! Essayez, si ça ne fonctionne pas, allez voir sur internet, il y a sûrement une alternative connue !\n",
        "\n",
        "5. Python est un langage très connu : en vous renseignant correctement sur internet, vous pourrez trouver ce que vous souhaitez ! Des **forums** existent (Stack Overflow, ...) avec toutes les questions que vous pourriez imaginer !\n",
        "\n",
        "6. Utilisez des **noms de variables** clairs. Cela permet d'améliorer la lisibilité de votre code. C'est pareil pour les fonctions !\n",
        "\n",
        "7. Utilisez une **structure claire**. Avec des fonctions explicites, qui n'ont qu'une seule tâche à faire. Si vous souhaitez faire plus, recréée-en d'autres !\n",
        "\n",
        "8. **Espacez** votre code ! Vous n'avez pas de limite de pages, alors prenez de l'espace ! Cela permet une meilleure lisibilité, sans devoir déchiffrer un gros bloc incompréhensible."
      ],
      "metadata": {
        "id": "RYTy3ORXhqON"
      }
    },
    {
      "cell_type": "markdown",
      "source": [
        "# **2. Introduction à Pandas**"
      ],
      "metadata": {
        "id": "H8vqTEAKeRa0"
      }
    },
    {
      "cell_type": "markdown",
      "source": [
        "Pandas est une bibliothèque Python qui sert à manipuler, analyser et explorer des données facilement.\n",
        "Elle permet de lire des fichiers (CSV, Excel, bases de données…), d’organiser les données sous forme de tableaux (DataFrames) et de faire rapidement des calculs, des tris, des regroupements..."
      ],
      "metadata": {
        "id": "reVm6rlHgVEL"
      }
    },
    {
      "cell_type": "markdown",
      "source": [
        "PRÉREQUIS À RUN"
      ],
      "metadata": {
        "id": "3U3iES1F9wrn"
      }
    },
    {
      "cell_type": "code",
      "source": [
        "# Il faut simplement run ce code avant de commencer\n",
        "\n",
        "!pip install yfinance --upgrade --no-cache-dir --quiet && echo \"Installation de yfinance terminée.\"\n",
        "import pandas as pd\n",
        "import yfinance as yf\n",
        "# Téléchargement des données sur les 5 dernières années\n",
        "nvidia = yf.download(\"NVDA\", start=\"2020-01-01\", end=\"2024-12-31\")\n",
        "abinbev = yf.download(\"BUD\", start=\"2020-01-01\", end=\"2024-12-31\")\n",
        "\n",
        "# enregistrement en fichier csv\n",
        "nvidia.to_csv(\"nvidia.csv\")\n",
        "abinbev.to_csv(\"abinbev.csv\")\n",
        "\n"
      ],
      "metadata": {
        "id": "Q8EtSpjF95nK"
      },
      "execution_count": null,
      "outputs": []
    },
    {
      "cell_type": "markdown",
      "source": [
        "## **IMPORTATION DE DONNÉES VENANT D'UN FICHIER CSV**"
      ],
      "metadata": {
        "id": "duoqaZoQeo4M"
      }
    },
    {
      "cell_type": "markdown",
      "source": [
        "Pour importer un package dans le notebook, il faut utiliser \"import\" ;\n",
        "\n",
        "Exemple : import numpy as np (\"as\" permet d'appeler le package avec une abréviation sans devoir réécrire le nom en entier, chaque bibliothèque a un standard d'abréviation, donc c'est rare de voir nmp, npy ou autre, c'est np qui est communément admis)."
      ],
      "metadata": {
        "id": "1IYQUjW6EynK"
      }
    },
    {
      "cell_type": "code",
      "source": [
        "#TO DO\n",
        "# Importez le package pandas (as pd)\n",
        "import pandas as pd"
      ],
      "metadata": {
        "id": "7RimEXghevq1"
      },
      "execution_count": null,
      "outputs": []
    },
    {
      "cell_type": "markdown",
      "source": [
        "Pour importer un jeu de données avec pandas il faut utiliser la fonction pd.read_typedefichier() et mettre ensuite dans les parenthèses le nom du fichier entre \"guillemets\".\n",
        "Ici, le type de fichier est csv"
      ],
      "metadata": {
        "id": "r6BpBt7oGKVH"
      }
    },
    {
      "cell_type": "code",
      "source": [
        "#TO DO\n",
        "# On veut importer les données des actions Nvidia et AB inBev dans le notebook.\n",
        "# (Elles sont déjà disponibles dans les fichiers du notebook en tant que fichiers csv)\n",
        "# Remplacez maintenant les \"none\" par la commande pour importer les données\n",
        "\n",
        "nvidia = pd.read_csv(\"nvidia.csv\")\n",
        "print(nvidia)\n",
        "abinbev = pd.read_csv(\"abinbev.csv\")\n",
        "print(abinbev)"
      ],
      "metadata": {
        "id": "1C0kX5p-g9yF"
      },
      "execution_count": null,
      "outputs": []
    },
    {
      "cell_type": "code",
      "source": [
        "# pour visualiser le data frame, il suffit de l'appeler dans une cellule de code\n",
        "# par exemple : abinbev\n",
        "# C'est à vous d'essayer\n",
        "abinbev"
      ],
      "metadata": {
        "id": "BVlbMr2masWA"
      },
      "execution_count": null,
      "outputs": []
    },
    {
      "cell_type": "markdown",
      "source": [
        "la fonction head() permet d'afficher les 5 premières lignes du fichier"
      ],
      "metadata": {
        "id": "uHjisqTbJslV"
      }
    },
    {
      "cell_type": "code",
      "source": [
        "# Vérifions que les données ont bien été récupérées\n",
        "print(\"NVIDIA :\")\n",
        "print(nvidia.head(), \"\\n\")\n",
        "\n",
        "print(\"AB InBev :\")\n"
      ],
      "metadata": {
        "id": "Zi2EOcF1IMAm"
      },
      "execution_count": null,
      "outputs": []
    },
    {
      "cell_type": "markdown",
      "source": [
        "Grâce à la fonction head() on peut maintenant observer pour les premiers jours de bourse les informations clés sur le cours de l'action\n",
        " ( Open       High        Low      Close     Volume)"
      ],
      "metadata": {
        "id": "Z1x8tHUjMZf5"
      }
    },
    {
      "cell_type": "markdown",
      "source": [
        "Les données actuelles ne sont cependant pas facilement manipulables et interprétables à cause de leur structure. C'est l'occasion de faire un peu de data cleaning"
      ],
      "metadata": {
        "id": "qNuxpAXCMMUE"
      }
    },
    {
      "cell_type": "code",
      "source": [
        "# D'abord il faut remplacer le nom de la première colonne par Date\n",
        "nvidia.rename(columns={\"Price\": \"Date\"}, inplace=True)\n",
        "abinbev.rename(columns={\"Price\": \"Date\"}, inplace=True)"
      ],
      "metadata": {
        "id": "7eGiJ5OCObnf"
      },
      "execution_count": null,
      "outputs": []
    },
    {
      "cell_type": "code",
      "source": [
        "# Ensuite nous allons supprimer les deux premières lignes du data frame qui sont non pertinentes\n",
        "nvidia = nvidia.iloc[2:]\n",
        "abinbev = abinbev.iloc[2:]"
      ],
      "metadata": {
        "id": "FSdsp5YxO_JN"
      },
      "execution_count": null,
      "outputs": []
    },
    {
      "cell_type": "code",
      "source": [
        "# Vérifions maintenant les données\n",
        "print(\"NVIDIA :\")\n",
        "print(nvidia.head(), \"\\n\")\n",
        "\n",
        "print(\"AB InBev :\")\n",
        "print(abinbev.head())"
      ],
      "metadata": {
        "id": "7icKNJMMPPrZ"
      },
      "execution_count": null,
      "outputs": []
    },
    {
      "cell_type": "markdown",
      "source": [
        "Il reste maintenant une étape de nettoyage : utiliser la variable \"Date\" en tant qu'indice pour simplifier la manipulation et l'analyse"
      ],
      "metadata": {
        "id": "Q26N4Pj0PW7N"
      }
    },
    {
      "cell_type": "markdown",
      "source": [
        "Pour ce faire, l'utilisation de .set_index(\"Date\", inplace=True) est requise"
      ],
      "metadata": {
        "id": "TgE_ViUSPlD-"
      }
    },
    {
      "cell_type": "code",
      "source": [
        "#TO DO\n",
        "#Implémentez la fonction pour les deux actions\n",
        "nvidia.set_index(\"Date\", inplace=True)\n",
        "abinbev.set_index(\"Date\", inplace=True)"
      ],
      "metadata": {
        "id": "OEOfSSigPrIN"
      },
      "execution_count": null,
      "outputs": []
    },
    {
      "cell_type": "markdown",
      "source": [
        "inplace=True permet d'appliquer directement les modifications aux données sans créer un nouveau data frame"
      ],
      "metadata": {
        "id": "hgWwFUk9P5yL"
      }
    },
    {
      "cell_type": "markdown",
      "source": [
        "Le code est maintenant nettoyé !"
      ],
      "metadata": {
        "id": "pjnnMtfnQFiZ"
      }
    },
    {
      "cell_type": "code",
      "source": [
        "print(\"NVIDIA :\")\n",
        "print(nvidia.head(), \"\\n\")\n",
        "\n",
        "print(\"AB InBev :\")\n",
        "print(abinbev.head())\n"
      ],
      "metadata": {
        "id": "pM7ibxUMPib3"
      },
      "execution_count": null,
      "outputs": []
    },
    {
      "cell_type": "markdown",
      "source": [
        "## Analyse de la structure et la taille d'une jeu de donnée avec .shape"
      ],
      "metadata": {
        "id": "Ixc1ov1UPdkS"
      }
    },
    {
      "cell_type": "markdown",
      "source": [
        "en utilisant la fonction print() pour visualiser et\n",
        "la fonction de notre jeu de donnée.shape,\n",
        "on reçoit en output un tuple (nbre_de_lignes, nbre_de_colonnes)"
      ],
      "metadata": {
        "id": "6aFu2AsRQdhI"
      }
    },
    {
      "cell_type": "code",
      "source": [
        "# TO DO\n",
        "# Remplacez none par la fonction pour shape de Nvidia\n",
        "print(\"NVIDIA :\")\n",
        "print(nvidia.shape)\n"
      ],
      "metadata": {
        "id": "8GDaHc-QPph7"
      },
      "execution_count": null,
      "outputs": []
    },
    {
      "cell_type": "markdown",
      "source": [
        "## Résumé des statistiques d'un data frame grâce à la fonction describe()"
      ],
      "metadata": {
        "id": "HAibfO-Z6kci"
      }
    },
    {
      "cell_type": "code",
      "source": [
        "# Conversion des colonnes en numériques\n",
        "for col in ['Close', 'High', 'Low', 'Open', 'Volume']:\n",
        "    abinbev[col] = pd.to_numeric(abinbev[col], errors='coerce')\n",
        "    nvidia[col] = pd.to_numeric(nvidia[col], errors='coerce')\n"
      ],
      "metadata": {
        "id": "3u7BJc4ZRkRz"
      },
      "execution_count": null,
      "outputs": []
    },
    {
      "cell_type": "code",
      "source": [
        "# TO DO\n",
        "# Implémentez la fonction describe à l'action abinbev\n",
        "print(\"AB InBev :\")\n",
        "print(abinbev.describe())"
      ],
      "metadata": {
        "id": "LkCoF1bh7XUo"
      },
      "execution_count": null,
      "outputs": []
    },
    {
      "cell_type": "markdown",
      "source": [
        "La fonction describe() permet pour chaque variable du dataframe de donner la moyenne, l'écart-type, le minimum et le maximum ainsi que les différents quartiles."
      ],
      "metadata": {
        "id": "juiqOvk575wU"
      }
    },
    {
      "cell_type": "markdown",
      "source": [
        "## Les fonctions \"loc[]\" et \"iloc[]\""
      ],
      "metadata": {
        "id": "NVNUcVcFEf4r"
      }
    },
    {
      "cell_type": "markdown",
      "source": [
        "Ces fonctions permettent de sélectionner précisément une ou plusieurs données dans le data frame"
      ],
      "metadata": {
        "id": "R6avW74iE2My"
      }
    },
    {
      "cell_type": "code",
      "source": [
        "# Par exemple nvidia.iloc[0,0] permet de sélectionner\n",
        "# l'élément de la première ligne, première colonne\n",
        "print(nvidia.iloc[0,0])"
      ],
      "metadata": {
        "id": "ZBqnrDhkFCPB"
      },
      "execution_count": null,
      "outputs": []
    },
    {
      "cell_type": "markdown",
      "source": [
        "<code>iloc</code> se base sur l'indice du tableau pour récupérer les données, tandis que <code>loc</code> se base sur les labels."
      ],
      "metadata": {
        "id": "tw0_vTvYFiM6"
      }
    },
    {
      "cell_type": "code",
      "source": [
        "# Voici un exemple avec Nvidia ;\n",
        "nvidia.iloc[:,4] # permet de sélectionner toutes les lignes de la colonne d'indice 4 soit la dernière colonne"
      ],
      "metadata": {
        "id": "n6wCO2QwTHKJ"
      },
      "execution_count": null,
      "outputs": []
    },
    {
      "cell_type": "code",
      "source": [
        "nvidia.loc[\"2020-01-02\"] # permet de sélectionner toutes les colonnes du 02/01/2020"
      ],
      "metadata": {
        "id": "gGn6fdoVTYPp"
      },
      "execution_count": null,
      "outputs": []
    },
    {
      "cell_type": "markdown",
      "source": [
        "C'est maintenant à vous d'utiliser ces méthodes de sélection de données"
      ],
      "metadata": {
        "id": "mDJGem5zL7wT"
      }
    },
    {
      "cell_type": "code",
      "source": [
        "# Sélectionnez toutes les informations de abinbev pour l'année 2022\n",
        "# en utilisant .loc[] -> ce sont des crochets !\n",
        "abinbev_2022 = abinbev.loc[\"2022-01-01\":\"2022-12-31\"]\n",
        "print(abinbev_2022)"
      ],
      "metadata": {
        "id": "PcZYkZm8MHnS"
      },
      "execution_count": null,
      "outputs": []
    },
    {
      "cell_type": "code",
      "source": [
        "# Utilisez la fonction print pour représenter\n",
        "# toutes les informations de abinbev pour le \"2023-03-16\"\n",
        "# en utilisant .loc[]\n",
        "print(abinbev.loc[\"2023-03-16\"])"
      ],
      "metadata": {
        "id": "915eHLK2Mclp"
      },
      "execution_count": null,
      "outputs": []
    },
    {
      "cell_type": "code",
      "source": [
        "# Utilisez la fonction print pour représenter\n",
        "# le prix d'ouverture (\"Open\") de la première ligne d'abinbev\n",
        "#en utilisant .iloc[]\n",
        "# tips : \"Open\" correspond à la 4e colonne, son indice est donc 3\n",
        "print(abinbev.iloc[0, 3])"
      ],
      "metadata": {
        "id": "Q0wNt2EVNGs3"
      },
      "execution_count": null,
      "outputs": []
    },
    {
      "cell_type": "code",
      "source": [
        "# Utilisez la fonction print pour représenter\n",
        "# le prix d'ouverture (\"Open\") de la DERNIÈRE ligne de abinbev\n",
        "#en utilisant .iloc[]\n",
        "# tips : l'indice -1 permet de faire référence à la dernière ligne du data frame\n",
        "# C'est en fait une référence au dernier indice (-2 serait l'avant dernier, etc.)\n",
        "print(abinbev.iloc[-1, 3])"
      ],
      "metadata": {
        "id": "0QOeRDUlpQR7"
      },
      "execution_count": null,
      "outputs": []
    },
    {
      "cell_type": "markdown",
      "source": [
        "###Création de nouvelles variables dans le data frame"
      ],
      "metadata": {
        "id": "MXYC_-cio8h2"
      }
    },
    {
      "cell_type": "markdown",
      "source": [
        "C'est maintenant à vous de créer une colonne correspondant au daily return"
      ],
      "metadata": {
        "id": "7OZhe6Mzv19q"
      }
    },
    {
      "cell_type": "code",
      "source": [
        "# Création d'une nouvelle variable \"DiffPrix\" dans le jeu de donnée nvidia\n",
        "# la nouvelle variable correspond à l'écart\n",
        "# entre le prix à l'ouverture et le prix de clotûre de l'action\n",
        "nvidia[\"DiffPrix\"] = nvidia[\"Open\"] - nvidia[\"Close\"]\n",
        "\n",
        "print(nvidia.head())"
      ],
      "metadata": {
        "id": "TawfU-Df2DIG"
      },
      "execution_count": null,
      "outputs": []
    },
    {
      "cell_type": "code",
      "source": [
        "#TO DO\n",
        "# Définissez une nouvelle colonne \"Return\" correspondant à DiffPrix/Open\n",
        "# Cette colonne permettra de voir le rendement(%) quotidien\n",
        "nvidia[\"Return\"]=nvidia[\"DiffPrix\"]/nvidia[\"Open\"]\n",
        "#\n",
        "print(nvidia.head())"
      ],
      "metadata": {
        "id": "uzEeKZ4jvomh"
      },
      "execution_count": null,
      "outputs": []
    }
  ]
}