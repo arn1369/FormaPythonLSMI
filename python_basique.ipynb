{
  "nbformat": 4,
  "nbformat_minor": 0,
  "metadata": {
    "colab": {
      "provenance": [],
      "collapsed_sections": [
        "HAibfO-Z6kci"
      ],
      "include_colab_link": true
    },
    "kernelspec": {
      "name": "python3",
      "display_name": "Python 3"
    },
    "language_info": {
      "name": "python"
    }
  },
  "cells": [
    {
      "cell_type": "markdown",
      "metadata": {
        "id": "view-in-github",
        "colab_type": "text"
      },
      "source": [
        "<a href=\"https://colab.research.google.com/github/arn1369/FormaPythonLSMI/blob/main/python_basique.ipynb\" target=\"_parent\"><img src=\"https://colab.research.google.com/assets/colab-badge.svg\" alt=\"Open In Colab\"/></a>"
      ]
    },
    {
      "cell_type": "markdown",
      "source": [
        "## **1. Introduction à Python**\n",
        "\n",
        "### **Variables et types**\n",
        "\n",
        "En Python, pour stocker des informations, on utilise des **variables**. C'est une sorte de \"boîte\" dans laquelle on met une information, qu'on va pouvoir regarder, changer, utiliser. Il y a différents **types** de variables, mais on en utilisera que trois :\n",
        "\n",
        "> **Integer** ou <code>int</code> : pour stocker des nombres entiers (3 par exemple) \\\n",
        "> **Float** ou <code>float</code> : pour stocker des nombres à virgules (2.45 par exemple) \\\n",
        "> **String** ou <code>str</code>: pour stocker des chaînes de caractères (\"bonjour\" par exemple). Les strings sont toujours entre des guillemets \"texte\". Les guillemets doubles (\"texte\") ou simples ('texte') font la même chose en python.\n",
        "\n",
        "Pour **afficher** la valeur des ces variables à l'écran, on utilisera le mot-clé <code>print</code> :\n",
        "\n"
      ],
      "metadata": {
        "id": "CvTG_cYcxIBT"
      }
    },
    {
      "cell_type": "code",
      "source": [
        "ticker = \"AAPL\"\n",
        "price = 175.43\n",
        "print(price) # affiche '175.43'\n",
        "print(\"Le prix est :\", price) # affiche 'Le prix est : 175.43'"
      ],
      "metadata": {
        "colab": {
          "base_uri": "https://localhost:8080/"
        },
        "id": "PnjC27bJlnlt",
        "outputId": "0a74bfde-9091-4259-c023-8e3071cc1076"
      },
      "execution_count": null,
      "outputs": [
        {
          "output_type": "stream",
          "name": "stdout",
          "text": [
            "175.43\n",
            "Le prix est : 175.43\n"
          ]
        }
      ]
    },
    {
      "cell_type": "markdown",
      "source": [
        "&nbsp;&nbsp;&nbsp;&nbsp;**_NOTE:_**  Un commentaire (ligne non executée par python) est précédé par <code>#</code>. C'est une sorte de ligne d'informations, qui permet de mieux comprendre son code, c'est une bonne pratique de laisser des commentaires lorsqu'un code devient compliqué ou qu'une ligne est très spécifique et qu'un collaborateur doit reprendre le code ou le relire.\n",
        "\n",
        "Si vous n'êtes pas sûr du **type** de votre variable, vous pouvez utiliser <code>type</code> :"
      ],
      "metadata": {
        "id": "slHpP68PmF54"
      }
    },
    {
      "cell_type": "code",
      "source": [
        "ma_variable = 10\n",
        "print(type(ma_variable)) # affiche 'int'"
      ],
      "metadata": {
        "colab": {
          "base_uri": "https://localhost:8080/"
        },
        "id": "WkVHSFCYlvVZ",
        "outputId": "d25b86f3-1b45-4306-db29-cf27994e31f5"
      },
      "execution_count": null,
      "outputs": [
        {
          "output_type": "stream",
          "name": "stdout",
          "text": [
            "<class 'int'>\n"
          ]
        }
      ]
    },
    {
      "cell_type": "markdown",
      "source": [
        "### **Opérations**\n",
        "\n",
        "Il y a différentes opérations en python :\n",
        "- addition (+)\n",
        "- soustraction (-)\n",
        "- multiplication (*)\n",
        "- division (/)\n",
        "- exposant (**), attention pas (^)\n",
        "- égalité (==)\n",
        "- différence (!=)\n",
        "\n",
        "&nbsp;&nbsp;&nbsp;&nbsp;**_NOTE:_** L'égalité (==) qui est une comparaison de deux valeurs, ne doit pas être confondue avec l'assignation (=), qui change la valeur !\n",
        "\n",
        "Exemple :"
      ],
      "metadata": {
        "id": "tpXsWBf6l8hc"
      }
    },
    {
      "cell_type": "code",
      "source": [
        "value1 = 10 # première variable\n",
        "value2 = 10 # deuxième variable\n",
        "print(value1 == value2) # affiche 'true' (comparaison vraie)\n",
        "print(value1 + value2) # affiche '20'\n",
        "print(value1 != 20) # affiche 'true'"
      ],
      "metadata": {
        "colab": {
          "base_uri": "https://localhost:8080/"
        },
        "id": "gmVr6ycJlsq7",
        "outputId": "bf0b5c9c-7a68-4dda-a48c-d96953be4355"
      },
      "execution_count": null,
      "outputs": [
        {
          "output_type": "stream",
          "name": "stdout",
          "text": [
            "True\n",
            "20\n",
            "True\n"
          ]
        }
      ]
    },
    {
      "cell_type": "code",
      "source": [
        "# Exercice 1.1 : Calcul de la market value\n",
        "# On aimerait définir trois variables :\n",
        "# 'ticker' qui sera le ticker de l'action cible (ici Novo Nordisk [NOVO-B])\n",
        "# 'price' qui sera le prix de l'action actuel\n",
        "# 'count' qui sera le nombre d'actions détenues (ici 12.65)\n",
        "# 'market_value' qui sera la valeur de marché, à calculer grâce aux autres variables\n",
        "# Enfin, on aimerait afficher 'La market value de <ticker> est : <market_value>'\n",
        "# N'hésitez pas à vous amuser en changeant le ticker et les valeurs\n",
        "\n",
        "ticker = \"NOVO-B\"\n",
        "price = 264.4\n",
        "count = 12.65\n",
        "market_value = price * count\n",
        "print(\"La market value de\", ticker, \"est :\", market_value)"
      ],
      "metadata": {
        "colab": {
          "base_uri": "https://localhost:8080/"
        },
        "id": "DPKpVu-oxIS9",
        "outputId": "1eb4d303-d534-4044-d8f4-6839075b91ef"
      },
      "execution_count": null,
      "outputs": [
        {
          "output_type": "stream",
          "name": "stdout",
          "text": [
            "La market value de NOVO-B est : 3344.66\n"
          ]
        }
      ]
    },
    {
      "cell_type": "code",
      "source": [
        "# Exercice 1.2 : Calcul d'un rendement journalier\n",
        "# On aimerait calculer le rendement journalier de nos performances.\n",
        "# Pour cela, on a deux prix :\n",
        "# 'today' et 'yesterday' (ici 46.3 et 43.4 respectivement)\n",
        "# On aimerait connaître le pourcentage gagné depuis hier (rate)\n",
        "\n",
        "# MORE : vous pouvez utiliser round(variable, number) pour arrondir le nombre\n",
        "# que vous obtenez. round(4.657, 2) donnera 4.66\n",
        "today = 46.3\n",
        "yesterday = 43.4\n",
        "rate = ((today - yesterday) / yesterday) * 100\n",
        "print(\"Rendement journalier :\", round(rate, 2), \"%\")"
      ],
      "metadata": {
        "colab": {
          "base_uri": "https://localhost:8080/"
        },
        "id": "0yMZIyk78oSW",
        "outputId": "d8cbf8fa-242a-48ec-bdee-7a13025c83fe"
      },
      "execution_count": null,
      "outputs": [
        {
          "output_type": "stream",
          "name": "stdout",
          "text": [
            "Rendement journalier : 6.68 %\n"
          ]
        }
      ]
    },
    {
      "cell_type": "markdown",
      "source": [
        "### **Boucles**\n",
        "\n",
        "En Python, il est parfois pratique de **répéter** certaines choses plusieurs fois, en changeant, ou pas, certaines valeurs. Par exemple, pour faire un chronomètre, il faut, chaque seconde, ajouter une seconde.\n",
        "Pour cela, une solution existe : les **boucles**.\n",
        "Il y a deux types de boucles :\n",
        "1. Les boucles <code>for</code> : \\\n",
        "Ce sont des boucles qui répètent des instructions, avec un \"compteur\", une variable qui augmente/diminue a chaque \"tour\" de boucle (avec un pas de 1 en général mais on peut le modifier). On pourrait les lire comme par exemple \"Pour i (le compteur) égal à 0 jusque i égal à 10, je fais :\" Elles sont de la forme :\n",
        ">```python\n",
        ">for i in range(start, end):\n",
        ">    do_something()\n",
        ">```\n",
        "&nbsp;&nbsp;&nbsp;&nbsp;**_NOTE:_** <code>range(1, 10)</code> donne donc des valeurs de 1 à 9 (le 10 n'est pas compris), pour vérifier, vous pouvez exécuter <code> list(range(1,10)) </code>\n",
        "\n",
        "2. Les boucles <code>while</code> : \\\n",
        "Ce sont des boucles qui répètent les instructions tant qu'une certaine condition est remplie. On pourrait les lire comme \"Tant que \\<condition> est vraie, je fais : \"\n",
        ">```python\n",
        ">while (condition):\n",
        ">    do_something()\n",
        ">```\n",
        "\n",
        "Remarquez qu'il y a une tabulation (4 espaces) avant _do\\_something_. Ces espaces permettent de distinguer ce qui est dans la boucle, et qui va donc se répéter. C'est essentiel de respecter ce formatage ou sinon Python ne saura pas reconnaître l'instruction que vous essayez de lui communiquer."
      ],
      "metadata": {
        "id": "g7A3IJCp8AX4"
      }
    },
    {
      "cell_type": "code",
      "source": [
        "# Exercice 1.3 : Application des boucles\n",
        "# Dans cet exercice, on aimerait implémenter un compteur de 1 jusqu'à n = 10.\n",
        "# Implémentez ce compteur de deux manières différentes (avec for et while).\n",
        "# Pour le while, il est nécessaire de déclarer le compteur avant,\n",
        "# (avec i=0 ou i=1 par exemple)\n",
        "\n",
        "# Avec un for\n",
        "print(\"Compteur avec for :\")\n",
        "for i in range(1, 11):\n",
        "  print(i)\n",
        "\n",
        "# Avec un while\n",
        "print(\"Compteur avec while :\")\n",
        "i = 1\n",
        "while i <= 10:\n",
        "  print(i)\n",
        "  i = i + 1"
      ],
      "metadata": {
        "colab": {
          "base_uri": "https://localhost:8080/"
        },
        "id": "AjgV_9jRGcYY",
        "outputId": "530281e8-7d0c-4ac5-b4a5-9a35d16da479"
      },
      "execution_count": null,
      "outputs": [
        {
          "output_type": "stream",
          "name": "stdout",
          "text": [
            "Compteur avec for :\n",
            "1\n",
            "2\n",
            "3\n",
            "4\n",
            "5\n",
            "6\n",
            "7\n",
            "8\n",
            "9\n",
            "10\n",
            "Compteur avec while :\n",
            "1\n",
            "2\n",
            "3\n",
            "4\n",
            "5\n",
            "6\n",
            "7\n",
            "8\n",
            "9\n",
            "10\n"
          ]
        }
      ]
    },
    {
      "cell_type": "code",
      "source": [
        "# Exercice 1.4 : Calcul d'intérêts composés\n",
        "# On aimerait calculer ce qu'un capital initial devient après n années à un\n",
        "# taux d'intérêt (avec des boucles !). Pour cela, on aura besoin de :\n",
        "# 'initial' qui sera le montant du capital initial\n",
        "# 'rate' le taux annuel\n",
        "# 'years' le nombre d'années\n",
        "\n",
        "initial = 10_000\n",
        "rate = 0.5\n",
        "years = 5\n",
        "\n",
        "for i in range(years):\n",
        "  initial = initial * (1 + rate)\n",
        "print(\"Montant final :\", round(initial, 2))"
      ],
      "metadata": {
        "colab": {
          "base_uri": "https://localhost:8080/"
        },
        "id": "GtMwH0hd72cb",
        "outputId": "417263f9-64b1-413b-feb7-1526d3508037"
      },
      "execution_count": null,
      "outputs": [
        {
          "output_type": "stream",
          "name": "stdout",
          "text": [
            "Montant final : 75937.5\n"
          ]
        }
      ]
    },
    {
      "cell_type": "markdown",
      "source": [
        "### **Listes**\n",
        "\n",
        "Les listes ou **arrays** en Python permettent de stocker plusieurs valeurs dans une seule variable. C'est _littéralement_ une liste d'éléments.\n",
        "A l'intérieur, on met ce qu'on veut : variables, valeurs, ...\n",
        "\n",
        "On les déclare comme ceci :\n",
        ">```python\n",
        ">liste = [element1, element2, ..., elementN]\n",
        ">```\n",
        "\n",
        "Et pour accéder à un élément, on utilise <code>liste[n]</code> avec _n_ l'index de l'élément.\n",
        "\n",
        "&nbsp;&nbsp;&nbsp;&nbsp;**_ATTENTION:_** Le premier index est le 0 et non le 1 ! Cela veut donc dire qu'une liste de taille **n** a pour indices **0,1,...,n-2,n-1**.\n",
        "\n",
        "Enfin, pour obtenir le nombre d'éléments dans une liste (sa longueur) on utilise <code>len(liste)</code>"
      ],
      "metadata": {
        "id": "XSY0FiIFTXqU"
      }
    },
    {
      "cell_type": "code",
      "source": [
        "element2 = 4 / 2\n",
        "element3 = \"hello\"\n",
        "ma_liste = [1, \"bonjour\", 4.65, element2, element3]\n",
        "print(\"Contenu de la liste :\", ma_liste)\n",
        "print(\"Premier élement :\", ma_liste[0])\n",
        "ma_liste[1] = 4 # réassignation d'un élément (le deuxième)\n",
        "ma_liste.append(\"nouveau\") # ajout d'un élément\n",
        "ma_liste.remove('hello') # retrait de \"hello\"\n",
        "print(\"Contenu de la liste :\", ma_liste)\n",
        "print(\"Longueur de la liste :\", len(ma_liste))"
      ],
      "metadata": {
        "colab": {
          "base_uri": "https://localhost:8080/"
        },
        "id": "2sYV1V9NeT5Q",
        "outputId": "3e5c1bc7-2bf8-4c47-8aeb-c6f0698526d0"
      },
      "execution_count": null,
      "outputs": [
        {
          "output_type": "stream",
          "name": "stdout",
          "text": [
            "Contenu de la liste : [1, 'bonjour', 4.65, 2.0, 'hello']\n",
            "Premier élement : 1\n",
            "Contenu de la liste : [1, 4, 4.65, 2.0, 'nouveau']\n",
            "Longueur de la liste : 5\n"
          ]
        }
      ]
    },
    {
      "cell_type": "markdown",
      "source": [
        "Il est cependant grandement conseillé d'avoir toujours le même type de variable dans une liste afin d'éviter les confusions, et des problèmes lorsqu'on fait des opérations sur des éléments de la liste.\n",
        "\n",
        "Pour parcourir une liste, on utilise les boucles :"
      ],
      "metadata": {
        "id": "ZxeEooH-e11t"
      }
    },
    {
      "cell_type": "code",
      "source": [
        "for i in range(len(ma_liste)):\n",
        "    print(\"Element n°\", i, \"de la liste :\", ma_liste[i])"
      ],
      "metadata": {
        "colab": {
          "base_uri": "https://localhost:8080/"
        },
        "id": "QC__maRQe5nC",
        "outputId": "1ac8614d-7591-4a43-d566-eaafd43d325b"
      },
      "execution_count": null,
      "outputs": [
        {
          "output_type": "stream",
          "name": "stdout",
          "text": [
            "Element n° 0 de la liste : 1\n",
            "Element n° 1 de la liste : 4\n",
            "Element n° 2 de la liste : 4.65\n",
            "Element n° 3 de la liste : 2.0\n",
            "Element n° 4 de la liste : nouveau\n"
          ]
        }
      ]
    },
    {
      "cell_type": "markdown",
      "source": [
        "On peut aussi utiliser les listes pour effectuer des opérations sur chacune des valeurs :\n",
        "\n",
        "On utilise ici l'opération *=, qui est en fait un raccourci.\n",
        "<code>a = a * 2</code> devient <code>a *= 2</code>.\n",
        "\n",
        "Notez aussi que range(10) ne fait que créer une liste avec les éléments de 0 à 9 (donc les indices d'une liste de taille 10) !"
      ],
      "metadata": {
        "id": "zZTcZiO3mNuH"
      }
    },
    {
      "cell_type": "code",
      "source": [
        "list_somme = [1, 2, 3, 4]\n",
        "for i in range(len(list_somme)):\n",
        "  list_somme[i] *= 2\n",
        "print(list_somme)"
      ],
      "metadata": {
        "colab": {
          "base_uri": "https://localhost:8080/"
        },
        "id": "OlxlXvXtmTcv",
        "outputId": "e29a12d3-4a07-4d83-e6e2-abc4dd4e017e"
      },
      "execution_count": null,
      "outputs": [
        {
          "output_type": "stream",
          "name": "stdout",
          "text": [
            "[2, 4, 6, 8]\n"
          ]
        }
      ]
    },
    {
      "cell_type": "code",
      "source": [
        "# Exercice 1.5 : Listes\n",
        "# Dans cet exercice, vous allez devoir implémenter un algorithme qui calcule\n",
        "# la moyenne des éléments d'une liste ne contenant que des nombres.\n",
        "\n",
        "mylist = [1, 2, 3, 4]\n",
        "somme = 0\n",
        "for i in range(len(mylist)):\n",
        "  somme += mylist[i]\n",
        "mean = somme / len(mylist)\n",
        "print(\"Moyenne :\", mean)\n",
        "\n",
        "# Alternative (prebuilt function) :\n",
        "mylist = [1, 2, 3, 4]\n",
        "mean = sum(mylist) / len(mylist)\n",
        "print(\"Moyenne :\", mean)"
      ],
      "metadata": {
        "colab": {
          "base_uri": "https://localhost:8080/"
        },
        "id": "02ygaOmtp0zk",
        "outputId": "0371ca6d-787d-4f17-afd1-de11222c05a2"
      },
      "execution_count": null,
      "outputs": [
        {
          "output_type": "stream",
          "name": "stdout",
          "text": [
            "Moyenne : 2.5\n",
            "Moyenne : 2.5\n"
          ]
        }
      ]
    },
    {
      "cell_type": "markdown",
      "source": [
        "### **Fonctions**\n",
        "\n",
        "Vous avez peut-être remarqué qu'on utilise parfois un morceau de code très ressemblant, plusieurs fois. La seule chose qui change sont les valeurs à l'intérieur de ce bloc.\n",
        "Pour cela, Python incorpore des **fonctions** : c'est un bloc de code un peu plus générique, mais auquel on peut passer des _paramètres_, afin de pouvoir changer les valeurs intérieures.\n",
        "\n",
        "Elles sont de la forme :\n",
        ">```python\n",
        ">def fonction(param1, param2, ..., paramN):\n",
        ">    do_something()\n",
        ">```\n",
        "\n",
        "On peut donc utiliser les paramètres comme des variables dans cette fonction.\n",
        "\n",
        "&nbsp;&nbsp;&nbsp;&nbsp;**_ATTENTION:_** Les paramètres ne sont pas accessibles en dehors de la fonction (sans indentation/tabulation). On appelle cela la **scope** d'une variable. Pour vous renseigner plus sur ce sujet, rendez-vous en **annexe 2**.\n",
        "\n",
        "On pourrait donc imaginer une fonction qui calcule la somme de ses deux paramètres :"
      ],
      "metadata": {
        "id": "B05n3gMeceGg"
      }
    },
    {
      "cell_type": "code",
      "source": [
        "# Calcul de la somme de 2 nombres\n",
        "def add(number1, number2):\n",
        "  somme = number1 + number2\n",
        "  return somme\n",
        "\n",
        "resultat = add(1, 2)\n",
        "print(resultat)"
      ],
      "metadata": {
        "id": "hwkeF7RseUMX",
        "outputId": "6ee50973-c347-44e0-d5e3-18d1df08e767",
        "colab": {
          "base_uri": "https://localhost:8080/"
        }
      },
      "execution_count": null,
      "outputs": [
        {
          "output_type": "stream",
          "name": "stdout",
          "text": [
            "3\n"
          ]
        }
      ]
    },
    {
      "cell_type": "markdown",
      "source": [
        "On peut constater l'utilisation du mot-clé <code>return</code> qui indique la **valeur de retour** de cette fonction (ce qu'elle renvoie quand elle a terminé ses instructions).\n",
        "\n",
        "Vous avez pu voir aussi comment on appelle la fonction : avec des **paramètres** séparés de **virgules**.\n",
        "\n",
        "Remarquez qu'on aurait pu compacter le code, avec :\n",
        "1. Le fait qu'on puisse passer une instruction à <code>return</code>\n",
        "2. Le fait qu'on puisse passer directement l'appel de la fonction à <code>print</code>"
      ],
      "metadata": {
        "id": "6idTULexeeaO"
      }
    },
    {
      "cell_type": "code",
      "source": [
        "# Calcul de la somme de 2 nombres (compactée)\n",
        "def add(number1, number2):\n",
        "  return number1 + number2\n",
        "\n",
        "print(add(1, 2))"
      ],
      "metadata": {
        "id": "tcZ8fJ-PfcTx",
        "outputId": "d44b8d5a-025b-405c-f6bb-580062b67182",
        "colab": {
          "base_uri": "https://localhost:8080/"
        }
      },
      "execution_count": null,
      "outputs": [
        {
          "output_type": "stream",
          "name": "stdout",
          "text": [
            "3\n"
          ]
        }
      ]
    },
    {
      "cell_type": "markdown",
      "source": [
        "En Python, on peut passer des paramètres par **défaut** aux fonctions. Cela permet de donner une valeur aux paramètres si ils ne sont pas attribués. Par exemple :"
      ],
      "metadata": {
        "id": "w0zMY5E33aoU"
      }
    },
    {
      "cell_type": "code",
      "source": [
        "def foo(param1 = 4):\n",
        "  return param1\n",
        "\n",
        "print( foo(1) ) # affiche 1\n",
        "print( foo() ) # affiche 4"
      ],
      "metadata": {
        "id": "VuHYmLiI3k6F",
        "outputId": "66317332-dbb4-4c3d-e85c-007ed386f8b9",
        "colab": {
          "base_uri": "https://localhost:8080/"
        }
      },
      "execution_count": null,
      "outputs": [
        {
          "output_type": "stream",
          "name": "stdout",
          "text": [
            "1\n",
            "4\n"
          ]
        }
      ]
    },
    {
      "cell_type": "markdown",
      "source": [
        "On pourrait imaginer une fonction <code>map</code> qui **applique** une certaine fonction à chaque élément d'une liste. On définira la fonction <code>foo</code>, qui est un nom de fonction utilisé pour une fonction test ou vide (convention). Cette fonction sera celle qu'on appliquera à **chaque élément**. Pour l'instant, elle ne fait qu'afficher le nombre."
      ],
      "metadata": {
        "id": "FOSR0-pNf7LK"
      }
    },
    {
      "cell_type": "code",
      "source": [
        "# Implémentation de map\n",
        "def map(function, liste):\n",
        "  for i in range(len(liste)):\n",
        "    liste[i] = function(liste[i])\n",
        "  return liste\n",
        "\n",
        "def foo(a):\n",
        "  print(a)\n",
        "  return a\n",
        "\n",
        "print(map(foo, [1, 2, 3, 4]))"
      ],
      "metadata": {
        "id": "-C2vSPpfgKMQ",
        "outputId": "0afed141-205a-4cf6-fd2c-f3dac057d188",
        "colab": {
          "base_uri": "https://localhost:8080/"
        }
      },
      "execution_count": null,
      "outputs": [
        {
          "output_type": "stream",
          "name": "stdout",
          "text": [
            "1\n",
            "2\n",
            "3\n",
            "4\n",
            "[1, 2, 3, 4]\n"
          ]
        }
      ]
    },
    {
      "cell_type": "markdown",
      "source": [
        "On pourrait maintenant modifier ce code afin que la fonction <code>foo</code> ajoute le nombre précédent (i-1) au nombre actuel (i).\n",
        "\n",
        "Attention aux **cas critiques** ! Pour le premier nombre, son précédent est 0."
      ],
      "metadata": {
        "id": "x9VuMn-9grMX"
      }
    },
    {
      "cell_type": "code",
      "source": [
        "# Implémentation de map avec la somme du nombre actuel et précédent\n",
        "def map(function, liste):\n",
        "  for i in range(len(liste)-1):\n",
        "    liste[i+1] = foo(liste[i], liste[i+1])\n",
        "  return liste\n",
        "\n",
        "def foo(a, b):\n",
        "  return a + b\n",
        "\n",
        "print(map(foo, [1, 2, 3, 4]))"
      ],
      "metadata": {
        "colab": {
          "base_uri": "https://localhost:8080/"
        },
        "id": "Vi7wNVsxhOqN",
        "outputId": "6f47c7ef-97c4-4c81-b5df-b847ef399077"
      },
      "execution_count": null,
      "outputs": [
        {
          "output_type": "stream",
          "name": "stdout",
          "text": [
            "[1, 3, 6, 10]\n"
          ]
        }
      ]
    },
    {
      "cell_type": "markdown",
      "source": [
        "### **Nombres aléatoires**\n",
        "\n",
        "Dans certaines situations, générer un nombre aléatoire est pratique. Pour ça, le module (une sorte de \"pack\" avec des fonctions) <code>random</code>. Sa fonction <code>randint</code> permet de créer un nombre aléatoire, compris entre deux **bornes** (et tiré uniformément).\n",
        "\n",
        "La fonction <code>randint</code> prends deux **paramètres** : _start_ et _end_, qui sont les bornes à l'intérieur desquelles on va générer un nombre aléatoire.\n",
        "\n",
        "Le point entre random et randint se traduit par \"dans le module random, j'utilise la fonction randint\""
      ],
      "metadata": {
        "id": "ypWel9PjqtuP"
      }
    },
    {
      "cell_type": "code",
      "source": [
        "import random\n",
        "\n",
        "# Essayez de lancer le code plusieurs fois et observez le résultat\n",
        "random_number = random.randint(1, 100)\n",
        "print(random_number)"
      ],
      "metadata": {
        "id": "mw9Ky38nscWM",
        "colab": {
          "base_uri": "https://localhost:8080/"
        },
        "outputId": "95a21418-ff75-48fb-9215-d5f39a150b83"
      },
      "execution_count": null,
      "outputs": [
        {
          "output_type": "stream",
          "name": "stdout",
          "text": [
            "10\n"
          ]
        }
      ]
    },
    {
      "cell_type": "markdown",
      "source": [
        "### **Conseils et bonnes pratiques**\n",
        "\n",
        "1. Utiliser les **commentaires** afin de mieux comprendre votre code plus tard. On dit souvent qu'on doit pouvoir comprendre le code en lisant uniquement les commentaires !\n",
        "\n",
        "2. N'hésitez pas à utiliser <code>print</code> pour afficher des _valeurs intermédiaires_. Cela permet le **déboggage** (retirer les bugs) de votre code, de voir comment il fonctionne \"intérieurement\", un bon environnement de développement possède un débogueur (VSCode, Pycharm, voire même Thonny pour la programmation de base).\n",
        "\n",
        "3. Lorsque vous avez des **cas critiques**, traitez-les en premier : cela permet à Python de ne pas devoir lire tout votre code avant de se rendre compte qu'on était dans un cas spécial.\n",
        "\n",
        "4. En Python, presque **tout est permis** ! Plusieurs <code>return</code> dans une même fonction, déclarer une liste avec une boucle (\"list comprehension\"), et bien plus encore ! Essayez, si ça ne fonctionne pas, allez voir sur internet, il y a sûrement une alternative connue !\n",
        "\n",
        "5. Python est un langage très connu : en vous renseignant correctement sur internet, vous pourrez trouver ce que vous souhaitez ! Des **forums** existent (Stack Overflow, ...) avec toutes les questions que vous pourriez imaginer !\n",
        "\n",
        "6. Utilisez des **noms de variables** clairs. Cela permet d'améliorer la lisibilité de votre code. C'est pareil pour les fonctions !\n",
        "\n",
        "7. Utilisez une **structure claire**. Avec des fonctions explicites, qui n'ont qu'une seule tâche à faire. Si vous souhaitez faire plus, recréée-en d'autres !\n",
        "\n",
        "8. **Espacez** votre code ! Vous n'avez pas de limite de pages, alors prenez de l'espace ! Cela permet une meilleure lisibilité, sans devoir déchiffrer un gros bloc incompréhensible."
      ],
      "metadata": {
        "id": "RYTy3ORXhqON"
      }
    },
    {
      "cell_type": "markdown",
      "source": [
        "# **2. Introduction à Pandas**"
      ],
      "metadata": {
        "id": "H8vqTEAKeRa0"
      }
    },
    {
      "cell_type": "markdown",
      "source": [
        "Pandas est une bibliothèque Python qui sert à manipuler, analyser et explorer des données facilement.\n",
        "Elle permet de lire des fichiers (CSV, Excel, bases de données…), d’organiser les données sous forme de tableaux (DataFrames) et de faire rapidement des calculs, des tris, des regroupements..."
      ],
      "metadata": {
        "id": "reVm6rlHgVEL"
      }
    },
    {
      "cell_type": "markdown",
      "source": [
        "PRÉREQUIS À RUN"
      ],
      "metadata": {
        "id": "3U3iES1F9wrn"
      }
    },
    {
      "cell_type": "code",
      "source": [
        "# Il faut simplement run ce code avant de commencer\n",
        "\n",
        "!pip install yfinance --upgrade --no-cache-dir\n",
        "import pandas as pd\n",
        "import yfinance as yf\n",
        "# Téléchargement des données sur les 5 dernières années\n",
        "nvidia = yf.download(\"NVDA\", start=\"2020-01-01\", end=\"2024-12-31\")\n",
        "abinbev = yf.download(\"BUD\", start=\"2020-01-01\", end=\"2024-12-31\")\n",
        "\n",
        "# enregistrement en fichier csv\n",
        "nvidia.to_csv(\"nvidia.csv\")\n",
        "abinbev.to_csv(\"abinbev.csv\")\n",
        "\n"
      ],
      "metadata": {
        "colab": {
          "base_uri": "https://localhost:8080/"
        },
        "id": "Q8EtSpjF95nK",
        "outputId": "6d718f0b-c4a3-4142-c5af-45e03a5617a4"
      },
      "execution_count": null,
      "outputs": [
        {
          "output_type": "stream",
          "name": "stdout",
          "text": [
            "Requirement already satisfied: yfinance in /usr/local/lib/python3.12/dist-packages (0.2.66)\n",
            "Requirement already satisfied: pandas>=1.3.0 in /usr/local/lib/python3.12/dist-packages (from yfinance) (2.2.2)\n",
            "Requirement already satisfied: numpy>=1.16.5 in /usr/local/lib/python3.12/dist-packages (from yfinance) (2.0.2)\n",
            "Requirement already satisfied: requests>=2.31 in /usr/local/lib/python3.12/dist-packages (from yfinance) (2.32.4)\n",
            "Requirement already satisfied: multitasking>=0.0.7 in /usr/local/lib/python3.12/dist-packages (from yfinance) (0.0.12)\n",
            "Requirement already satisfied: platformdirs>=2.0.0 in /usr/local/lib/python3.12/dist-packages (from yfinance) (4.5.0)\n",
            "Requirement already satisfied: pytz>=2022.5 in /usr/local/lib/python3.12/dist-packages (from yfinance) (2025.2)\n",
            "Requirement already satisfied: frozendict>=2.3.4 in /usr/local/lib/python3.12/dist-packages (from yfinance) (2.4.6)\n",
            "Requirement already satisfied: peewee>=3.16.2 in /usr/local/lib/python3.12/dist-packages (from yfinance) (3.18.2)\n",
            "Requirement already satisfied: beautifulsoup4>=4.11.1 in /usr/local/lib/python3.12/dist-packages (from yfinance) (4.13.5)\n",
            "Requirement already satisfied: curl_cffi>=0.7 in /usr/local/lib/python3.12/dist-packages (from yfinance) (0.13.0)\n",
            "Requirement already satisfied: protobuf>=3.19.0 in /usr/local/lib/python3.12/dist-packages (from yfinance) (5.29.5)\n",
            "Requirement already satisfied: websockets>=13.0 in /usr/local/lib/python3.12/dist-packages (from yfinance) (15.0.1)\n",
            "Requirement already satisfied: soupsieve>1.2 in /usr/local/lib/python3.12/dist-packages (from beautifulsoup4>=4.11.1->yfinance) (2.8)\n",
            "Requirement already satisfied: typing-extensions>=4.0.0 in /usr/local/lib/python3.12/dist-packages (from beautifulsoup4>=4.11.1->yfinance) (4.15.0)\n",
            "Requirement already satisfied: cffi>=1.12.0 in /usr/local/lib/python3.12/dist-packages (from curl_cffi>=0.7->yfinance) (2.0.0)\n",
            "Requirement already satisfied: certifi>=2024.2.2 in /usr/local/lib/python3.12/dist-packages (from curl_cffi>=0.7->yfinance) (2025.10.5)\n",
            "Requirement already satisfied: python-dateutil>=2.8.2 in /usr/local/lib/python3.12/dist-packages (from pandas>=1.3.0->yfinance) (2.9.0.post0)\n",
            "Requirement already satisfied: tzdata>=2022.7 in /usr/local/lib/python3.12/dist-packages (from pandas>=1.3.0->yfinance) (2025.2)\n",
            "Requirement already satisfied: charset_normalizer<4,>=2 in /usr/local/lib/python3.12/dist-packages (from requests>=2.31->yfinance) (3.4.3)\n",
            "Requirement already satisfied: idna<4,>=2.5 in /usr/local/lib/python3.12/dist-packages (from requests>=2.31->yfinance) (3.10)\n",
            "Requirement already satisfied: urllib3<3,>=1.21.1 in /usr/local/lib/python3.12/dist-packages (from requests>=2.31->yfinance) (2.5.0)\n",
            "Requirement already satisfied: pycparser in /usr/local/lib/python3.12/dist-packages (from cffi>=1.12.0->curl_cffi>=0.7->yfinance) (2.23)\n",
            "Requirement already satisfied: six>=1.5 in /usr/local/lib/python3.12/dist-packages (from python-dateutil>=2.8.2->pandas>=1.3.0->yfinance) (1.17.0)\n"
          ]
        },
        {
          "output_type": "stream",
          "name": "stderr",
          "text": [
            "/tmp/ipython-input-1273435450.py:7: FutureWarning: YF.download() has changed argument auto_adjust default to True\n",
            "  nvidia = yf.download(\"NVDA\", start=\"2020-01-01\", end=\"2024-12-31\")\n",
            "[*********************100%***********************]  1 of 1 completed\n",
            "/tmp/ipython-input-1273435450.py:8: FutureWarning: YF.download() has changed argument auto_adjust default to True\n",
            "  abinbev = yf.download(\"BUD\", start=\"2020-01-01\", end=\"2024-12-31\")\n",
            "[*********************100%***********************]  1 of 1 completed\n"
          ]
        }
      ]
    },
    {
      "cell_type": "markdown",
      "source": [
        "## **IMPORTATION DE DONNÉES VENANT D'UN FICHIER CSV**"
      ],
      "metadata": {
        "id": "duoqaZoQeo4M"
      }
    },
    {
      "cell_type": "markdown",
      "source": [
        "Pour importer un package dans le notebook, il faut utiliser \"import\" ;\n",
        "\n",
        "Exemple : import numpy as np (\"as\" permet d'appeler le package avec une abréviation sans devoir réécrire le nom en entier, chaque bibliothèque a un standard d'abréviation, donc c'est rare de voir nmp, npy ou autre, c'est np qui est communément admis)."
      ],
      "metadata": {
        "id": "1IYQUjW6EynK"
      }
    },
    {
      "cell_type": "code",
      "source": [
        "#TO DO\n",
        "# Importez le package pandas (as pd)\n",
        "none"
      ],
      "metadata": {
        "id": "7RimEXghevq1"
      },
      "execution_count": null,
      "outputs": []
    },
    {
      "cell_type": "markdown",
      "source": [
        "Pour importer un jeu de données avec pandas il faut utiliser la fonction pd.read_typedefichier() et mettre ensuite dans les parenthèses le nom du fichier entre \"guillemets\".\n",
        "Ici, le type de fichier est csv"
      ],
      "metadata": {
        "id": "r6BpBt7oGKVH"
      }
    },
    {
      "cell_type": "code",
      "source": [
        "#TO DO\n",
        "# On veut importer les données des actions Nvidia et AB inBev dans le notebook.\n",
        "# (Elles sont déjà disponibles dans les fichiers du notebook en tant que fichiers csv)\n",
        "# Remplacez maintenant les \"none\" par la commande pour importer les données\n",
        "\n",
        "nvidia = none\n",
        "abinbev = none"
      ],
      "metadata": {
        "id": "1C0kX5p-g9yF"
      },
      "execution_count": null,
      "outputs": []
    },
    {
      "cell_type": "code",
      "source": [
        "# pour visualiser le data frame, il suffit de l'appeler dans une cellule de code\n",
        "# par exemple : abinbev\n",
        "# C'est à vous d'essayer\n",
        "None"
      ],
      "metadata": {
        "id": "BVlbMr2masWA"
      },
      "execution_count": null,
      "outputs": []
    },
    {
      "cell_type": "markdown",
      "source": [
        "la fonction head() permet d'afficher les 5 premières lignes du fichier"
      ],
      "metadata": {
        "id": "uHjisqTbJslV"
      }
    },
    {
      "cell_type": "code",
      "source": [
        "# Vérifions que les données ont bien été récupérées\n",
        "print(\"NVIDIA :\")\n",
        "print(nvidia.head(), \"\\n\")\n",
        "\n",
        "print(\"AB InBev :\")\n",
        "print(none)\n"
      ],
      "metadata": {
        "colab": {
          "base_uri": "https://localhost:8080/"
        },
        "id": "Zi2EOcF1IMAm",
        "outputId": "169f2f46-a424-495f-b19a-fdb799e695f4"
      },
      "execution_count": null,
      "outputs": [
        {
          "output_type": "stream",
          "name": "stdout",
          "text": [
            "NVIDIA :\n",
            "        Price              Close               High                 Low  \\\n",
            "0      Ticker               NVDA               NVDA                NVDA   \n",
            "1        Date                NaN                NaN                 NaN   \n",
            "2  2020-01-02  5.971410274505615  5.971410274505615  5.8920109160937795   \n",
            "3  2020-01-03  5.875831127166748  5.919638038662146   5.826797295101701   \n",
            "4  2020-01-06  5.900473117828369  5.905700039221264   5.756359156713934   \n",
            "\n",
            "                Open     Volume  \n",
            "0               NVDA       NVDA  \n",
            "1                NaN        NaN  \n",
            "2  5.942537823696139  237536000  \n",
            "3  5.851687596513701  205384000  \n",
            "4  5.782493763678408  262636000   \n",
            "\n",
            "AB InBev :\n",
            "           Price               Close                High                 Low  \\\n",
            "0         Ticker                 BUD                 BUD                 BUD   \n",
            "1           Date                 NaN                 NaN                 NaN   \n",
            "2     2020-01-02    77.6158676147461   77.69957925363254    76.9276042435065   \n",
            "3     2020-01-03    76.9648208618164   77.36475918759744   76.54628388888803   \n",
            "4     2020-01-06   77.50426483154297   77.63447663441279   77.13222806791018   \n",
            "...          ...                 ...                 ...                 ...   \n",
            "1254  2024-12-23  49.678184509277344  49.786309371133044  49.019607509632856   \n",
            "1255  2024-12-24  49.530738830566406   49.55039823644026   49.28500188161567   \n",
            "1256  2024-12-26   49.51108169555664   49.65852537154901   49.37346959777627   \n",
            "1257  2024-12-27   49.51108169555664   49.87477509643156  49.245685328559446   \n",
            "1258  2024-12-30    48.9311408996582   49.24568389964324   48.82301604035428   \n",
            "\n",
            "                    Open   Volume  \n",
            "0                    BUD      BUD  \n",
            "1                    NaN      NaN  \n",
            "2      76.97411149800017   920500  \n",
            "3      76.54628388888803   794500  \n",
            "4      77.34615151320263   857400  \n",
            "...                  ...      ...  \n",
            "1254   49.27517604668239  2136600  \n",
            "1255   49.48159219070591   734700  \n",
            "1256  49.452107224878446  1859200  \n",
            "1257   49.25551690677144  1857800  \n",
            "1258   49.24568389964324  2371500  \n",
            "\n",
            "[1259 rows x 6 columns]\n"
          ]
        }
      ]
    },
    {
      "cell_type": "markdown",
      "source": [
        "Grâce à la fonction head() on peut maintenant observer pour les premiers jours de bourse les informations clés sur le cours de l'action\n",
        " ( Open       High        Low      Close     Volume)"
      ],
      "metadata": {
        "id": "Z1x8tHUjMZf5"
      }
    },
    {
      "cell_type": "markdown",
      "source": [
        "Les données actuelles ne sont cependant pas facilement manipulables et interprétables à cause de leur structure. C'est l'occasion de faire un peu de data cleaning"
      ],
      "metadata": {
        "id": "qNuxpAXCMMUE"
      }
    },
    {
      "cell_type": "code",
      "source": [
        "# D'abord il faut remplacer le nom de la première colonne par Date\n",
        "nvidia.rename(columns={\"Price\": \"Date\"}, inplace=True)\n",
        "abinbev.rename(columns={\"Price\": \"Date\"}, inplace=True)"
      ],
      "metadata": {
        "id": "7eGiJ5OCObnf"
      },
      "execution_count": null,
      "outputs": []
    },
    {
      "cell_type": "code",
      "source": [
        "# Ensuite nous allons supprimer les deux premières lignes du data frame qui sont non pertinentes\n",
        "nvidia = nvidia.iloc[2:]\n",
        "abinbev = abinbev.iloc[2:]"
      ],
      "metadata": {
        "id": "FSdsp5YxO_JN"
      },
      "execution_count": null,
      "outputs": []
    },
    {
      "cell_type": "code",
      "source": [
        "# Vérifions maintenant les données\n",
        "print(\"NVIDIA :\")\n",
        "print(nvidia.head(), \"\\n\")\n",
        "\n",
        "print(\"AB InBev :\")\n",
        "print(abinbev.head())"
      ],
      "metadata": {
        "colab": {
          "base_uri": "https://localhost:8080/"
        },
        "id": "7icKNJMMPPrZ",
        "outputId": "20f33709-f975-42c1-b7fd-5954fec5bca7"
      },
      "execution_count": null,
      "outputs": [
        {
          "output_type": "stream",
          "name": "stdout",
          "text": [
            "NVIDIA :\n",
            "         Date              Close               High                 Low  \\\n",
            "2  2020-01-02  5.971410274505615  5.971410274505615  5.8920109160937795   \n",
            "3  2020-01-03  5.875831127166748  5.919638038662146   5.826797295101701   \n",
            "4  2020-01-06  5.900473117828369  5.905700039221264   5.756359156713934   \n",
            "5  2020-01-07  5.971907615661621  6.017705602199702   5.883796256515214   \n",
            "6  2020-01-08  5.983107566833496  6.024425398714708   5.927602515447526   \n",
            "\n",
            "                 Open     Volume  \n",
            "2   5.942537823696139  237536000  \n",
            "3   5.851687596513701  205384000  \n",
            "4   5.782493763678408  262636000  \n",
            "5   5.928847472247913  314856000  \n",
            "6  5.9676755712096945  277108000   \n",
            "\n",
            "AB InBev :\n",
            "         Date              Close               High                Low  \\\n",
            "2  2020-01-02   77.6158676147461  77.69957925363254   76.9276042435065   \n",
            "3  2020-01-03   76.9648208618164  77.36475918759744  76.54628388888803   \n",
            "4  2020-01-06  77.50426483154297  77.63447663441279  77.13222806791018   \n",
            "5  2020-01-07  75.90452575683594  77.09503794388688  75.41157996963632   \n",
            "6  2020-01-08   76.2486572265625    76.732300117177  75.65339406701942   \n",
            "\n",
            "                Open   Volume  \n",
            "2  76.97411149800017   920500  \n",
            "3  76.54628388888803   794500  \n",
            "4  77.34615151320263   857400  \n",
            "5  77.08573507167206  1221800  \n",
            "6  75.90452193207872   997600  \n"
          ]
        }
      ]
    },
    {
      "cell_type": "markdown",
      "source": [
        "Il reste maintenant une étape de nettoyage : utiliser la variable \"Date\" en tant qu'indice pour simplifier la manipulation et l'analyse"
      ],
      "metadata": {
        "id": "Q26N4Pj0PW7N"
      }
    },
    {
      "cell_type": "markdown",
      "source": [
        "Pour ce faire, l'utilisation de .set_index(\"Date, inplace=True) est requise"
      ],
      "metadata": {
        "id": "TgE_ViUSPlD-"
      }
    },
    {
      "cell_type": "code",
      "source": [
        "#TO DO\n",
        "#Implémentez la fonction pour les deux actions\n",
        "none\n",
        "none"
      ],
      "metadata": {
        "id": "OEOfSSigPrIN"
      },
      "execution_count": null,
      "outputs": []
    },
    {
      "cell_type": "markdown",
      "source": [
        "inplace=True permet d'appliquer directement les modifications aux données sans créer un nouveau data frame"
      ],
      "metadata": {
        "id": "hgWwFUk9P5yL"
      }
    },
    {
      "cell_type": "markdown",
      "source": [
        "Le code est maintenant nettoyé !"
      ],
      "metadata": {
        "id": "pjnnMtfnQFiZ"
      }
    },
    {
      "cell_type": "code",
      "source": [
        "print(\"NVIDIA :\")\n",
        "print(nvidia.head(), \"\\n\")\n",
        "\n",
        "print(\"AB InBev :\")\n",
        "print(abinbev.head())\n"
      ],
      "metadata": {
        "colab": {
          "base_uri": "https://localhost:8080/"
        },
        "id": "pM7ibxUMPib3",
        "outputId": "d0f0ad44-bd24-49df-e1fd-3f625e52037e"
      },
      "execution_count": null,
      "outputs": [
        {
          "output_type": "stream",
          "name": "stdout",
          "text": [
            "NVIDIA :\n",
            "                         Close               High                Low  \\\n",
            "Date                                                                   \n",
            "2020-01-02   5.971409797668457  5.971409797668457  5.892010445596926   \n",
            "2020-01-03   5.875833034515381  5.919639960230904  5.826799186533503   \n",
            "2020-01-06  5.9004716873168945  5.905698607442574  5.756357761141467   \n",
            "2020-01-07  5.9719085693359375  6.017706563187655  5.883797196118727   \n",
            "2020-01-08   5.983107566833496  6.024425398714708  5.927602515447526   \n",
            "\n",
            "                          Open     Volume  \n",
            "Date                                       \n",
            "2020-01-02   5.942537349164542  237536000  \n",
            "2020-01-03   5.851689496025122  205384000  \n",
            "2020-01-06   5.782492361769863  262636000  \n",
            "2020-01-07   5.928848419045808  314856000  \n",
            "2020-01-08  5.9676755712096945  277108000   \n",
            "\n",
            "AB InBev :\n",
            "                        Close               High                Low  \\\n",
            "Date                                                                  \n",
            "2020-01-02  77.61587524414062  77.69958689125566  76.92761180524691   \n",
            "2020-01-03   76.9648208618164  77.36475918759744  76.54628388888803   \n",
            "2020-01-06  77.50426483154297  77.63447663441279  77.13222806791018   \n",
            "2020-01-07   75.9045181274414  77.09503019483034  75.41157238978926   \n",
            "2020-01-08  76.24864959716797  76.73229243938945  75.65338649718655   \n",
            "\n",
            "                         Open   Volume  \n",
            "Date                                    \n",
            "2020-01-02   76.9741190643121   920500  \n",
            "2020-01-03  76.54628388888803   794500  \n",
            "2020-01-06  77.34615151320263   857400  \n",
            "2020-01-07   77.0857273235506  1221800  \n",
            "2020-01-08  75.90451433711816   997600  \n"
          ]
        }
      ]
    },
    {
      "cell_type": "markdown",
      "source": [
        "## Analyse de la structure et la taille d'une jeu de donnée avec .shape"
      ],
      "metadata": {
        "id": "Ixc1ov1UPdkS"
      }
    },
    {
      "cell_type": "markdown",
      "source": [
        "en utilisant la fonction print() pour visualiser et\n",
        "la fonction de notre jeu de donnée.shape,\n",
        "on reçoit en output un tuple (nbre_de_lignes, nbre_de_colonnes)"
      ],
      "metadata": {
        "id": "6aFu2AsRQdhI"
      }
    },
    {
      "cell_type": "code",
      "source": [
        "# TO DO\n",
        "# Remplacez none par la fonction pour shape de Nvidia\n",
        "print(\"NVIDIA :\")\n",
        "print(none)\n"
      ],
      "metadata": {
        "colab": {
          "base_uri": "https://localhost:8080/",
          "height": 193
        },
        "id": "8GDaHc-QPph7",
        "outputId": "cdf4e0ba-41d7-4897-d6f2-e5c6804e68c4"
      },
      "execution_count": null,
      "outputs": [
        {
          "output_type": "stream",
          "name": "stdout",
          "text": [
            "NVIDIA :\n"
          ]
        },
        {
          "output_type": "error",
          "ename": "NameError",
          "evalue": "name 'none' is not defined",
          "traceback": [
            "\u001b[0;31m---------------------------------------------------------------------------\u001b[0m",
            "\u001b[0;31mNameError\u001b[0m                                 Traceback (most recent call last)",
            "\u001b[0;32m/tmp/ipython-input-1443425700.py\u001b[0m in \u001b[0;36m<cell line: 0>\u001b[0;34m()\u001b[0m\n\u001b[1;32m      2\u001b[0m \u001b[0;31m# Remplacez none par la fonction pour shape de Nvidia\u001b[0m\u001b[0;34m\u001b[0m\u001b[0;34m\u001b[0m\u001b[0m\n\u001b[1;32m      3\u001b[0m \u001b[0mprint\u001b[0m\u001b[0;34m(\u001b[0m\u001b[0;34m\"NVIDIA :\"\u001b[0m\u001b[0;34m)\u001b[0m\u001b[0;34m\u001b[0m\u001b[0;34m\u001b[0m\u001b[0m\n\u001b[0;32m----> 4\u001b[0;31m \u001b[0mprint\u001b[0m\u001b[0;34m(\u001b[0m\u001b[0mnone\u001b[0m\u001b[0;34m)\u001b[0m\u001b[0;34m\u001b[0m\u001b[0;34m\u001b[0m\u001b[0m\n\u001b[0m",
            "\u001b[0;31mNameError\u001b[0m: name 'none' is not defined"
          ]
        }
      ]
    },
    {
      "cell_type": "markdown",
      "source": [
        "## Résumé des statistiques d'un data frame grâce à la fonction describe()"
      ],
      "metadata": {
        "id": "HAibfO-Z6kci"
      }
    },
    {
      "cell_type": "code",
      "source": [
        "# Conversion des colonnes en numériques\n",
        "for col in ['Close', 'High', 'Low', 'Open', 'Volume']:\n",
        "    abinbev[col] = pd.to_numeric(abinbev[col], errors='coerce')\n",
        "    nvidia[col] = pd.to_numeric(nvidia[col], errors='coerce')\n"
      ],
      "metadata": {
        "id": "3u7BJc4ZRkRz"
      },
      "execution_count": null,
      "outputs": []
    },
    {
      "cell_type": "code",
      "source": [
        "# TO DO\n",
        "# Implémentez la fonction describe à l'action abinbev\n",
        "print(\"AB InBev :\")\n",
        "print(none)"
      ],
      "metadata": {
        "id": "LkCoF1bh7XUo",
        "colab": {
          "base_uri": "https://localhost:8080/"
        },
        "outputId": "a67e43d5-89dc-4946-cae7-0575db4ccf89"
      },
      "execution_count": null,
      "outputs": [
        {
          "output_type": "stream",
          "name": "stdout",
          "text": [
            "AB InBev :\n",
            "             Close         High          Low         Open        Volume\n",
            "count  1257.000000  1257.000000  1257.000000  1257.000000  1.257000e+03\n",
            "mean     56.921901    57.342122    56.499591    56.925029  1.834527e+06\n",
            "std       7.019217     6.944679     7.105234     7.027272  1.165772e+06\n",
            "min      32.720512    33.538991    30.302283    30.404590  3.852000e+05\n",
            "25%      52.819958    53.293031    52.425569    52.920149  1.113200e+06\n",
            "50%      57.060200    57.448432    56.733017    57.101897  1.506700e+06\n",
            "75%      61.043442    61.349665    60.559127    60.885684  2.161600e+06\n",
            "max      77.615868    77.699579    77.132228    77.346152  1.190290e+07\n"
          ]
        }
      ]
    },
    {
      "cell_type": "markdown",
      "source": [
        "La fonction describe() permet pour chaque variable du dataframe de donner la moyenne, l'écart-type, le minimum et le maximum ainsi que les différents quartiles."
      ],
      "metadata": {
        "id": "juiqOvk575wU"
      }
    },
    {
      "cell_type": "markdown",
      "source": [
        "## Les fonctions \"loc[]\" et \"iloc[]\""
      ],
      "metadata": {
        "id": "NVNUcVcFEf4r"
      }
    },
    {
      "cell_type": "markdown",
      "source": [
        "Ces fonctions permettent de sélectionner précisément une ou plusieurs données dans le data frame"
      ],
      "metadata": {
        "id": "R6avW74iE2My"
      }
    },
    {
      "cell_type": "code",
      "source": [
        "# Par exemple nvidia.iloc[0,0] permet de sélectionner\n",
        "# l'élément de la première ligne, première colonne"
      ],
      "metadata": {
        "id": "ZBqnrDhkFCPB"
      },
      "execution_count": null,
      "outputs": []
    },
    {
      "cell_type": "markdown",
      "source": [
        "Iloc se base sur l'indice du tableau pour récupérer les données, tandis que loc se base sur les labels."
      ],
      "metadata": {
        "id": "tw0_vTvYFiM6"
      }
    },
    {
      "cell_type": "code",
      "source": [
        "# Voici un exemple avec Nvidia ;\n",
        "nvidia.iloc[:,4] # permet de sélectionner toutes les lignes de la colonne d'indice 4 soit la dernière colonne"
      ],
      "metadata": {
        "id": "n6wCO2QwTHKJ"
      },
      "execution_count": null,
      "outputs": []
    },
    {
      "cell_type": "code",
      "source": [
        "nvidia.loc[\"2020-01-02\"] # permet de sélectionner toutes les colonnes du 02/01/2020"
      ],
      "metadata": {
        "id": "gGn6fdoVTYPp"
      },
      "execution_count": null,
      "outputs": []
    },
    {
      "cell_type": "markdown",
      "source": [
        "C'est maintenant à vous d'utiliser ces méthodes de sélection de données"
      ],
      "metadata": {
        "id": "mDJGem5zL7wT"
      }
    },
    {
      "cell_type": "code",
      "source": [
        "# TO DO"
      ],
      "metadata": {
        "id": "xN9J_YlFNNh3"
      },
      "execution_count": null,
      "outputs": []
    },
    {
      "cell_type": "code",
      "source": [
        "# Sélectionnez toutes les informations de abinbev pour l'année 2022\n",
        "# en utilisant .loc[]\n",
        "abinbev_2022 = none\n",
        "print(abinbev_2022)"
      ],
      "metadata": {
        "id": "PcZYkZm8MHnS"
      },
      "execution_count": null,
      "outputs": []
    },
    {
      "cell_type": "code",
      "source": [
        "# Utilisez la fonction print pour représenter\n",
        "# toutes les informations de abinbev pour le \"2023-03-16\"\n",
        "# en utilisant .loc[]\n",
        "print(none)\n"
      ],
      "metadata": {
        "id": "915eHLK2Mclp"
      },
      "execution_count": null,
      "outputs": []
    },
    {
      "cell_type": "code",
      "source": [
        "# Utilisez la fonction print pour représenter\n",
        "# le prix d'ouverture (\"Open\") de la première ligne d'abinbev\n",
        "#en utilisant .iloc[]\n",
        "# tips : \"Open\" correspond à la 4e colonne, son indice est donc 3\n",
        "print(none)"
      ],
      "metadata": {
        "id": "Q0wNt2EVNGs3"
      },
      "execution_count": null,
      "outputs": []
    },
    {
      "cell_type": "code",
      "source": [
        "# Utilisez la fonction print pour représenter\n",
        "# le prix d'ouverture (\"Open\") de la DERNIÈRE ligne de abinbev\n",
        "#en utilisant .iloc[]\n",
        "# tips : l'indice -1 permet de faire référence à la dernière ligne du data frame\n",
        "print(none)"
      ],
      "metadata": {
        "id": "0QOeRDUlpQR7"
      },
      "execution_count": null,
      "outputs": []
    },
    {
      "cell_type": "markdown",
      "source": [
        "###Création de nouvelles variables dans le data frame"
      ],
      "metadata": {
        "id": "MXYC_-cio8h2"
      }
    },
    {
      "cell_type": "markdown",
      "source": [
        "C'est maintenant à vous de créer une colonne correspondant au daily return"
      ],
      "metadata": {
        "id": "7OZhe6Mzv19q"
      }
    },
    {
      "cell_type": "code",
      "source": [
        "# Création d'une nouvelle variable \"DiffPrix\" dans le jeu de donnée nvidia\n",
        "# la nouvelle variable correspond à l'écart\n",
        "# entre le prix à l'ouverture et le prix de clotûre de l'action\n",
        "nvidia[\"DiffPrix\"] = nvidia[\"Open\"] - nvidia[\"Close\"]\n",
        "\n",
        "print(nvidia.head())"
      ],
      "metadata": {
        "id": "TawfU-Df2DIG",
        "colab": {
          "base_uri": "https://localhost:8080/"
        },
        "outputId": "b8130865-0b90-4c1f-c9e3-68fe179287d7"
      },
      "execution_count": null,
      "outputs": [
        {
          "output_type": "stream",
          "name": "stdout",
          "text": [
            "               Close      High       Low      Open     Volume  DiffPrix\n",
            "Date                                                                   \n",
            "2020-01-02  5.971410  5.971410  5.892011  5.942538  237536000 -0.028872\n",
            "2020-01-03  5.875831  5.919638  5.826797  5.851688  205384000 -0.024144\n",
            "2020-01-06  5.900473  5.905700  5.756359  5.782494  262636000 -0.117979\n",
            "2020-01-07  5.971908  6.017706  5.883796  5.928847  314856000 -0.043060\n",
            "2020-01-08  5.983108  6.024425  5.927603  5.967676  277108000 -0.015432\n"
          ]
        }
      ]
    },
    {
      "cell_type": "code",
      "source": [
        "#TO DO\n",
        "# Définissez une nouvelle colonne \"Return\" correspondant à DiffPrix/Open\n",
        "# Cette colonne permettra de voir le rendement(%) quotidien\n",
        "nvidia[\"Return\"]=none\n",
        "print(nvidia.head())"
      ],
      "metadata": {
        "id": "uzEeKZ4jvomh",
        "colab": {
          "base_uri": "https://localhost:8080/"
        },
        "outputId": "c8499095-6e42-4602-d2d9-ee4a9999cbbe"
      },
      "execution_count": null,
      "outputs": [
        {
          "output_type": "stream",
          "name": "stdout",
          "text": [
            "               Close      High       Low      Open     Volume  DiffPrix  \\\n",
            "Date                                                                      \n",
            "2020-01-02  5.971410  5.971410  5.892011  5.942538  237536000 -0.028872   \n",
            "2020-01-03  5.875831  5.919638  5.826797  5.851688  205384000 -0.024144   \n",
            "2020-01-06  5.900473  5.905700  5.756359  5.782494  262636000 -0.117979   \n",
            "2020-01-07  5.971908  6.017706  5.883796  5.928847  314856000 -0.043060   \n",
            "2020-01-08  5.983108  6.024425  5.927603  5.967676  277108000 -0.015432   \n",
            "\n",
            "              Return  \n",
            "Date                  \n",
            "2020-01-02 -0.004859  \n",
            "2020-01-03 -0.004126  \n",
            "2020-01-06 -0.020403  \n",
            "2020-01-07 -0.007263  \n",
            "2020-01-08 -0.002586  \n"
          ]
        }
      ]
    },
    {
      "cell_type": "code",
      "source": [
        "import yfinance as yf\n",
        "\n",
        "ticker = yf.Ticker(\"AAPL\")\n",
        "data = ticker.insider_purchases\n",
        "print(data[0])"
      ],
      "metadata": {
        "id": "ndyMCiaN2Tzp"
      },
      "execution_count": null,
      "outputs": []
    },
    {
      "cell_type": "code",
      "source": [
        "news = yf.Search(\"Google\", news_count=5).news\n",
        "for i in range(len(news)):\n",
        "  print(news[i]['title'])\n",
        "\n",
        "materials_sector = yf.Sector('basic-materials')\n",
        "print(materials_sector.top_companies.head())\n",
        "industries = materials_sector.industries\n",
        "print(industries)\n",
        "# index_ticker = industries['lumber-wood-production'].split()[-1]\n",
        "# print(index_ticker)"
      ],
      "metadata": {
        "id": "4VSiiLQv2Xav"
      },
      "execution_count": null,
      "outputs": []
    },
    {
      "cell_type": "markdown",
      "source": [
        "## **Le module yFinance**\n",
        "\n",
        "### Installation et importation"
      ],
      "metadata": {
        "id": "gH-Mduq19Ams"
      }
    },
    {
      "cell_type": "code",
      "source": [
        "!pip install yfinance -q\n",
        "import yfinance as yf"
      ],
      "metadata": {
        "id": "gZV19t099YOv"
      },
      "execution_count": null,
      "outputs": []
    },
    {
      "cell_type": "markdown",
      "source": [
        "## **Téléchargement de données financières**\n",
        "\n",
        "Grâce au module yFinance, on peut télécharger des données financières (Yahoo Finance). On utilise une fonction du module, <code>download</code>, qui s'utilise comme suit :\n",
        "> ```python\n",
        ">yf.download(ticker, start_date, end_date)\n",
        ">```\n",
        "\n",
        "Pour obtenir le **ticker**, on utilise"
      ],
      "metadata": {
        "id": "PeO5tXM39yvd"
      }
    },
    {
      "cell_type": "code",
      "source": [
        "ticker = yf.Ticker(\"ARGX\")"
      ],
      "metadata": {
        "id": "96RWxvQS_0FW"
      },
      "execution_count": null,
      "outputs": []
    },
    {
      "cell_type": "markdown",
      "source": [
        "&nbsp;&nbsp;&nbsp;&nbsp;**_NOTE:_** On peut utiliser la fonction <code>dir</code> pour voir toutes les fonctions et valeurs associées à une variable. Scrollez après les _dunder methods_, celles qui commencent et finissent par des doubles underscore \\_\\_method\\-name\\_\\_. Vous obtiendrez tout une liste de fonctions qui permettent de récupérer des données liées au ticker :"
      ],
      "metadata": {
        "id": "bdvI_IDC_6Wy"
      }
    },
    {
      "cell_type": "code",
      "source": [
        "print(dir(ticker))"
      ],
      "metadata": {
        "id": "_luNQBjGAIeH"
      },
      "execution_count": null,
      "outputs": []
    },
    {
      "cell_type": "markdown",
      "source": [
        "Par exemple, on voit la méthode <code>get_info</code>, qui donne la plupart des informations sur l'entreprise : son secteur, un texte qui décrit l'entreprise et sa stratégie"
      ],
      "metadata": {
        "id": "6beSIE8dA76e"
      }
    },
    {
      "cell_type": "code",
      "source": [
        "print(ticker.get_info())\n",
        "print(ticker.get_info()['country'])"
      ],
      "metadata": {
        "id": "-OnTdIBVBBSP"
      },
      "execution_count": null,
      "outputs": []
    }
  ]
}